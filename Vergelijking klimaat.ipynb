{
 "cells": [
  {
   "cell_type": "code",
   "execution_count": 1,
   "metadata": {},
   "outputs": [],
   "source": [
    "import pandas as pd\n",
    "from pathlib import Path"
   ]
  },
  {
   "cell_type": "code",
   "execution_count": 2,
   "metadata": {},
   "outputs": [],
   "source": [
    "inputdir = Path('Analyse_klimaat')"
   ]
  },
  {
   "cell_type": "code",
   "execution_count": 3,
   "metadata": {},
   "outputs": [],
   "source": [
    "schadeperjaar = {}\n",
    "for xlsx_file in inputdir.glob('*.csv'):\n",
    "    schadeperjaar[xlsx_file.stem] = pd.read_csv(xlsx_file, index_col=[0,1])"
   ]
  },
  {
   "cell_type": "code",
   "execution_count": 4,
   "metadata": {},
   "outputs": [],
   "source": [
    "outputdir = Path('Vergelijking klimaat')"
   ]
  },
  {
   "cell_type": "markdown",
   "metadata": {},
   "source": [
    "# Circulair pompen"
   ]
  },
  {
   "cell_type": "markdown",
   "metadata": {},
   "source": [
    "## Heel"
   ]
  },
  {
   "cell_type": "code",
   "execution_count": 22,
   "metadata": {},
   "outputs": [
    {
     "name": "stdout",
     "output_type": "stream",
     "text": [
      "Baten gemiddeld per jaar (*1000 euro)\n",
      "6.031638537698\n",
      "70.05748960465036\n"
     ]
    }
   ],
   "source": [
    "r = 'Heel_Kosten_per_jaar_Schutregimes'\n",
    "m = 'Heel_Kosten_per_jaar_Maatregel hogere pompcapaciteit'\n",
    "\n",
    "print('Baten gemiddeld per jaar (*1000 euro)')\n",
    "print((schadeperjaar[r].loc[('Ref', 'Gemiddelde'), :].sum() - schadeperjaar[m].loc[('Ref', 'Gemiddelde'), :].sum()) / 1000)\n",
    "print((schadeperjaar[r].loc[('WH_2050', 'Gemiddelde'), :].sum() - schadeperjaar[m].loc[('WH_2050', 'Gemiddelde'), :].sum()) / 1000)"
   ]
  },
  {
   "cell_type": "markdown",
   "metadata": {},
   "source": [
    "## Maasbracht"
   ]
  },
  {
   "cell_type": "code",
   "execution_count": 32,
   "metadata": {},
   "outputs": [],
   "source": [
    "r = 'Maasbracht_Kosten_per_jaar_Gelijke kosten'"
   ]
  },
  {
   "cell_type": "code",
   "execution_count": 33,
   "metadata": {},
   "outputs": [
    {
     "name": "stdout",
     "output_type": "stream",
     "text": [
      "Baten gemiddeld per jaar (*1000 euro)\n",
      "1.4186602484808828\n",
      "11.806663906864676\n"
     ]
    }
   ],
   "source": [
    "m = 'Maasbracht_Kosten_per_jaar_Maatregel pompefficientie 70%'\n",
    "\n",
    "print('Baten gemiddeld per jaar (*1000 euro)')\n",
    "print((schadeperjaar[r].loc[('Ref', 'Gemiddelde'), :].sum() - schadeperjaar[m].loc[('Ref', 'Gemiddelde'), :].sum()) / 1000)\n",
    "print((schadeperjaar[r].loc[('WH_2050', 'Gemiddelde'), :].sum() - schadeperjaar[m].loc[('WH_2050', 'Gemiddelde'), :].sum()) / 1000)"
   ]
  },
  {
   "cell_type": "code",
   "execution_count": 34,
   "metadata": {},
   "outputs": [
    {
     "name": "stdout",
     "output_type": "stream",
     "text": [
      "Baten gemiddeld per jaar (*1000 euro)\n",
      "1.8564554267472122\n",
      "15.450172305278976\n"
     ]
    }
   ],
   "source": [
    "m = 'Maasbracht_Kosten_per_jaar_Maatregel pompefficientie 80%'\n",
    "\n",
    "print('Baten gemiddeld per jaar (*1000 euro)')\n",
    "print((schadeperjaar[r].loc[('Ref', 'Gemiddelde'), :].sum() - schadeperjaar[m].loc[('Ref', 'Gemiddelde'), :].sum()) / 1000)\n",
    "print((schadeperjaar[r].loc[('WH_2050', 'Gemiddelde'), :].sum() - schadeperjaar[m].loc[('WH_2050', 'Gemiddelde'), :].sum()) / 1000)"
   ]
  },
  {
   "cell_type": "code",
   "execution_count": 35,
   "metadata": {},
   "outputs": [
    {
     "name": "stdout",
     "output_type": "stream",
     "text": [
      "Baten gemiddeld per jaar (*1000 euro)\n",
      "2.196962787621029\n",
      "18.28401217071226\n"
     ]
    }
   ],
   "source": [
    "m = 'Maasbracht_Kosten_per_jaar_Maatregel pompefficientie 90%'\n",
    "\n",
    "print('Baten gemiddeld per jaar (*1000 euro)')\n",
    "print((schadeperjaar[r].loc[('Ref', 'Gemiddelde'), :].sum() - schadeperjaar[m].loc[('Ref', 'Gemiddelde'), :].sum()) / 1000)\n",
    "print((schadeperjaar[r].loc[('WH_2050', 'Gemiddelde'), :].sum() - schadeperjaar[m].loc[('WH_2050', 'Gemiddelde'), :].sum()) / 1000)"
   ]
  },
  {
   "cell_type": "code",
   "execution_count": 36,
   "metadata": {},
   "outputs": [
    {
     "name": "stdout",
     "output_type": "stream",
     "text": [
      "Baten gemiddeld per jaar (*1000 euro)\n",
      "3.3553040726880425\n",
      "28.350796219064097\n"
     ]
    }
   ],
   "source": [
    "m = 'Maasbracht_Kosten_per_jaar_Maatregel hogere pompcapaciteit'\n",
    "\n",
    "print('Baten gemiddeld per jaar (*1000 euro)')\n",
    "print((schadeperjaar[r].loc[('Ref', 'Gemiddelde'), :].sum() - schadeperjaar[m].loc[('Ref', 'Gemiddelde'), :].sum()) / 1000)\n",
    "print((schadeperjaar[r].loc[('WH_2050', 'Gemiddelde'), :].sum() - schadeperjaar[m].loc[('WH_2050', 'Gemiddelde'), :].sum()) / 1000)"
   ]
  },
  {
   "cell_type": "markdown",
   "metadata": {},
   "source": [
    "## Born"
   ]
  },
  {
   "cell_type": "code",
   "execution_count": 37,
   "metadata": {},
   "outputs": [],
   "source": [
    "r = 'Born_Kosten_per_jaar_Gelijke kosten'"
   ]
  },
  {
   "cell_type": "code",
   "execution_count": 38,
   "metadata": {},
   "outputs": [
    {
     "name": "stdout",
     "output_type": "stream",
     "text": [
      "Baten gemiddeld per jaar (*1000 euro)\n",
      "2.3464459800048063\n",
      "14.873141383603622\n"
     ]
    }
   ],
   "source": [
    "m = 'Born_Kosten_per_jaar_Maatregel pompefficientie 70%'\n",
    "\n",
    "print('Baten gemiddeld per jaar (*1000 euro)')\n",
    "print((schadeperjaar[r].loc[('Ref', 'Gemiddelde'), :].sum() - schadeperjaar[m].loc[('Ref', 'Gemiddelde'), :].sum()) / 1000)\n",
    "print((schadeperjaar[r].loc[('WH_2050', 'Gemiddelde'), :].sum() - schadeperjaar[m].loc[('WH_2050', 'Gemiddelde'), :].sum()) / 1000)"
   ]
  },
  {
   "cell_type": "code",
   "execution_count": 39,
   "metadata": {},
   "outputs": [
    {
     "name": "stdout",
     "output_type": "stream",
     "text": [
      "Baten gemiddeld per jaar (*1000 euro)\n",
      "3.486071841391684\n",
      "22.09675390452062\n"
     ]
    }
   ],
   "source": [
    "m = 'Born_Kosten_per_jaar_Maatregel pompefficientie 80%'\n",
    "\n",
    "print('Baten gemiddeld per jaar (*1000 euro)')\n",
    "print((schadeperjaar[r].loc[('Ref', 'Gemiddelde'), :].sum() - schadeperjaar[m].loc[('Ref', 'Gemiddelde'), :].sum()) / 1000)\n",
    "print((schadeperjaar[r].loc[('WH_2050', 'Gemiddelde'), :].sum() - schadeperjaar[m].loc[('WH_2050', 'Gemiddelde'), :].sum()) / 1000)"
   ]
  },
  {
   "cell_type": "code",
   "execution_count": 40,
   "metadata": {},
   "outputs": [
    {
     "name": "stdout",
     "output_type": "stream",
     "text": [
      "Baten gemiddeld per jaar (*1000 euro)\n",
      "4.3724475113592565\n",
      "27.715119198567177\n"
     ]
    }
   ],
   "source": [
    "m = 'Born_Kosten_per_jaar_Maatregel pompefficientie 90%'\n",
    "\n",
    "print('Baten gemiddeld per jaar (*1000 euro)')\n",
    "print((schadeperjaar[r].loc[('Ref', 'Gemiddelde'), :].sum() - schadeperjaar[m].loc[('Ref', 'Gemiddelde'), :].sum()) / 1000)\n",
    "print((schadeperjaar[r].loc[('WH_2050', 'Gemiddelde'), :].sum() - schadeperjaar[m].loc[('WH_2050', 'Gemiddelde'), :].sum()) / 1000)"
   ]
  },
  {
   "cell_type": "code",
   "execution_count": 41,
   "metadata": {},
   "outputs": [],
   "source": [
    "r = 'Born_Kosten_per_jaar_Zuinig schutregime dan pompen'"
   ]
  },
  {
   "cell_type": "code",
   "execution_count": 41,
   "metadata": {},
   "outputs": [
    {
     "name": "stdout",
     "output_type": "stream",
     "text": [
      "Baten gemiddeld per jaar (*1000 euro)\n",
      "1.883139396827908\n",
      "11.659908824532002\n"
     ]
    }
   ],
   "source": [
    "m = 'Born_Kosten_per_jaar_Maatregel hogere pompcapaciteit'\n",
    "\n",
    "print('Baten gemiddeld per jaar (*1000 euro)')\n",
    "print((schadeperjaar[r].loc[('Ref', 'Gemiddelde'), :].sum() - schadeperjaar[m].loc[('Ref', 'Gemiddelde'), :].sum()) / 1000)\n",
    "print((schadeperjaar[r].loc[('WH_2050', 'Gemiddelde'), :].sum() - schadeperjaar[m].loc[('WH_2050', 'Gemiddelde'), :].sum()) / 1000)"
   ]
  },
  {
   "cell_type": "markdown",
   "metadata": {},
   "source": [
    "# Hevelend schutten"
   ]
  },
  {
   "cell_type": "code",
   "execution_count": 28,
   "metadata": {},
   "outputs": [
    {
     "name": "stdout",
     "output_type": "stream",
     "text": [
      "Baten gemiddeld per jaar (*1000 euro)\n",
      "4.300388932733717\n",
      "38.797910295436274\n"
     ]
    }
   ],
   "source": [
    "m = 'Born_Kosten_per_jaar_Maatregel hevelend'\n",
    "r = 'Born_Kosten_per_jaar_Gelijke kosten'\n",
    "\n",
    "print('Baten gemiddeld per jaar (*1000 euro)')\n",
    "print((schadeperjaar[r].loc[('Ref', 'Gemiddelde'), :].sum() - schadeperjaar[m].loc[('Ref', 'Gemiddelde'), :].sum()) / 1000)\n",
    "print((schadeperjaar[r].loc[('WH_2050', 'Gemiddelde'), :].sum() - schadeperjaar[m].loc[('WH_2050', 'Gemiddelde'), :].sum()) / 1000)"
   ]
  },
  {
   "cell_type": "code",
   "execution_count": 29,
   "metadata": {},
   "outputs": [
    {
     "name": "stdout",
     "output_type": "stream",
     "text": [
      "Baten gemiddeld per jaar (*1000 euro)\n",
      "2.2499468886898786\n",
      "14.98888995450495\n"
     ]
    }
   ],
   "source": [
    "m = 'Heel_Kosten_per_jaar_Maatregel hevelend'\n",
    "r = 'Heel_Kosten_per_jaar_Schutregimes'\n",
    "\n",
    "print('Baten gemiddeld per jaar (*1000 euro)')\n",
    "print((schadeperjaar[r].loc[('Ref', 'Gemiddelde'), :].sum() - schadeperjaar[m].loc[('Ref', 'Gemiddelde'), :].sum()) / 1000)\n",
    "print((schadeperjaar[r].loc[('WH_2050', 'Gemiddelde'), :].sum() - schadeperjaar[m].loc[('WH_2050', 'Gemiddelde'), :].sum()) / 1000)"
   ]
  },
  {
   "cell_type": "markdown",
   "metadata": {},
   "source": [
    "# Spaarbekken"
   ]
  },
  {
   "cell_type": "code",
   "execution_count": 30,
   "metadata": {},
   "outputs": [
    {
     "name": "stdout",
     "output_type": "stream",
     "text": [
      "Maatregel 1 klein spaarbekken\n",
      "Baten gemiddeld per jaar (*1000 euro)\n",
      "10.250801167754492\n",
      "35.06075027454769\n",
      "\n",
      "Maatregel 2 kleine spaarbekkens\n",
      "Baten gemiddeld per jaar (*1000 euro)\n",
      "8.53215930430752\n",
      "39.456649713914\n",
      "\n",
      "Maatregel 3 middelgrote spaarbekkens\n",
      "Baten gemiddeld per jaar (*1000 euro)\n",
      "4.1771201639453865\n",
      "34.35714091700606\n",
      "\n",
      "Maatregel 1 groot spaarbekken\n",
      "Baten gemiddeld per jaar (*1000 euro)\n",
      "14.450926717639064\n",
      "47.7300971369271\n",
      "\n",
      "Maatregel 2 grote spaarbekkens\n",
      "Baten gemiddeld per jaar (*1000 euro)\n",
      "10.463234429106116\n",
      "47.14387053709649\n",
      "\n",
      "Maatregel 3 grote spaarbekkens\n",
      "Baten gemiddeld per jaar (*1000 euro)\n",
      "4.430753908826562\n",
      "36.028837903824375\n",
      "\n"
     ]
    }
   ],
   "source": [
    "for spaarbekken in [\n",
    "'Maatregel 1 klein spaarbekken',\n",
    "'Maatregel 2 kleine spaarbekkens',\n",
    "'Maatregel 3 middelgrote spaarbekkens',\n",
    "'Maatregel 1 groot spaarbekken',\n",
    "'Maatregel 2 grote spaarbekkens',\n",
    "'Maatregel 3 grote spaarbekkens',\n",
    "]:\n",
    "    m = 'Born_Kosten_per_jaar_' + spaarbekken\n",
    "    r = 'Born_Kosten_per_jaar_Gelijke kosten'\n",
    "\n",
    "    print(spaarbekken)\n",
    "    print('Baten gemiddeld per jaar (*1000 euro)')\n",
    "    print((schadeperjaar[r].loc[('Ref', 'Gemiddelde'), :].sum() - schadeperjaar[m].loc[('Ref', 'Gemiddelde'), :].sum()) / 1000)\n",
    "    print((schadeperjaar[r].loc[('WH_2050', 'Gemiddelde'), :].sum() - schadeperjaar[m].loc[('WH_2050', 'Gemiddelde'), :].sum()) / 1000)\n",
    "    print()"
   ]
  },
  {
   "cell_type": "code",
   "execution_count": 19,
   "metadata": {},
   "outputs": [],
   "source": [
    "df = pd.concat(schadeperjaar, axis=1).loc[(['Ref', 'GL_2050', 'WH_2050'], 'Gemiddelde'), :].stack(0).swaplevel(-1, 0).sort_index().unstack(-1).swaplevel(axis=1).sort_index(axis=1) * 1000\n"
   ]
  },
  {
   "cell_type": "code",
   "execution_count": 20,
   "metadata": {},
   "outputs": [],
   "source": [
    "df.index = pd.MultiIndex.from_tuples([(i1.split('_')[0], i1.split('_')[-1]) for i1, i2 in df.index])"
   ]
  },
  {
   "cell_type": "code",
   "execution_count": 21,
   "metadata": {},
   "outputs": [],
   "source": [
    "df.to_excel(outputdir / 'Samenvatting_schade_per_jaar.xlsx')"
   ]
  },
  {
   "cell_type": "code",
   "execution_count": null,
   "metadata": {},
   "outputs": [],
   "source": []
  },
  {
   "cell_type": "code",
   "execution_count": null,
   "metadata": {},
   "outputs": [],
   "source": []
  }
 ],
 "metadata": {
  "kernelspec": {
   "display_name": "Python 3",
   "language": "python",
   "name": "python3"
  },
  "language_info": {
   "codemirror_mode": {
    "name": "ipython",
    "version": 3
   },
   "file_extension": ".py",
   "mimetype": "text/x-python",
   "name": "python",
   "nbconvert_exporter": "python",
   "pygments_lexer": "ipython3",
   "version": "3.7.3"
  }
 },
 "nbformat": 4,
 "nbformat_minor": 4
}
