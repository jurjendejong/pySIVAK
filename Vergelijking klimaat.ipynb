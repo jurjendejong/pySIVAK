{
 "cells": [
  {
   "cell_type": "code",
   "execution_count": 1,
   "metadata": {},
   "outputs": [],
   "source": [
    "import pandas as pd\n",
    "from pathlib import Path"
   ]
  },
  {
   "cell_type": "code",
   "execution_count": 2,
   "metadata": {},
   "outputs": [],
   "source": [
    "inputdir = Path('Analyse_klimaat')"
   ]
  },
  {
   "cell_type": "code",
   "execution_count": 3,
   "metadata": {},
   "outputs": [],
   "source": [
    "schadeperjaar = {}\n",
    "for xlsx_file in inputdir.glob('*.csv'):\n",
    "    schadeperjaar[xlsx_file.stem] = pd.read_csv(xlsx_file, index_col=[0,1])"
   ]
  },
  {
   "cell_type": "code",
   "execution_count": 42,
   "metadata": {},
   "outputs": [],
   "source": [
    "outputdir = Path('Vergelijking klimaat')"
   ]
  },
  {
   "cell_type": "markdown",
   "metadata": {},
   "source": [
    "# Circulair pompen"
   ]
  },
  {
   "cell_type": "markdown",
   "metadata": {},
   "source": [
    "## Heel"
   ]
  },
  {
   "cell_type": "code",
   "execution_count": 4,
   "metadata": {},
   "outputs": [
    {
     "name": "stdout",
     "output_type": "stream",
     "text": [
      "Baten gemiddeld per jaar (*1000 euro)\n",
      "9.446087739691256\n",
      "112.62705905547091\n"
     ]
    }
   ],
   "source": [
    "r = 'Heel_Kosten_per_jaar_Schutregimes'\n",
    "m = 'Heel_Kosten_per_jaar_Maatregel hogere pompcapaciteit'\n",
    "\n",
    "print('Baten gemiddeld per jaar (*1000 euro)')\n",
    "print((schadeperjaar[r].loc[('Ref', 'Gemiddelde'), :].sum() - schadeperjaar[m].loc[('Ref', 'Gemiddelde'), :].sum()) * 1000)\n",
    "print((schadeperjaar[r].loc[('WH_2050', 'Gemiddelde'), :].sum() - schadeperjaar[m].loc[('WH_2050', 'Gemiddelde'), :].sum()) * 1000)"
   ]
  },
  {
   "cell_type": "markdown",
   "metadata": {},
   "source": [
    "## Maasbracht"
   ]
  },
  {
   "cell_type": "code",
   "execution_count": 5,
   "metadata": {},
   "outputs": [],
   "source": [
    "r = 'Maasbracht_Kosten_per_jaar_Gelijke kosten'"
   ]
  },
  {
   "cell_type": "code",
   "execution_count": 6,
   "metadata": {},
   "outputs": [
    {
     "name": "stdout",
     "output_type": "stream",
     "text": [
      "Baten gemiddeld per jaar (*1000 euro)\n",
      "1.4039191697324747\n",
      "11.657881911629337\n"
     ]
    }
   ],
   "source": [
    "m = 'Maasbracht_Kosten_per_jaar_Maatregel pompefficientie 70%'\n",
    "\n",
    "print('Baten gemiddeld per jaar (*1000 euro)')\n",
    "print((schadeperjaar[r].loc[('Ref', 'Gemiddelde'), :].sum() - schadeperjaar[m].loc[('Ref', 'Gemiddelde'), :].sum()) * 1000)\n",
    "print((schadeperjaar[r].loc[('WH_2050', 'Gemiddelde'), :].sum() - schadeperjaar[m].loc[('WH_2050', 'Gemiddelde'), :].sum()) * 1000)"
   ]
  },
  {
   "cell_type": "code",
   "execution_count": 7,
   "metadata": {},
   "outputs": [
    {
     "name": "stdout",
     "output_type": "stream",
     "text": [
      "Baten gemiddeld per jaar (*1000 euro)\n",
      "1.8371652861600696\n",
      "15.255476540205704\n"
     ]
    }
   ],
   "source": [
    "m = 'Maasbracht_Kosten_per_jaar_Maatregel pompefficientie 80%'\n",
    "\n",
    "print('Baten gemiddeld per jaar (*1000 euro)')\n",
    "print((schadeperjaar[r].loc[('Ref', 'Gemiddelde'), :].sum() - schadeperjaar[m].loc[('Ref', 'Gemiddelde'), :].sum()) * 1000)\n",
    "print((schadeperjaar[r].loc[('WH_2050', 'Gemiddelde'), :].sum() - schadeperjaar[m].loc[('WH_2050', 'Gemiddelde'), :].sum()) * 1000)"
   ]
  },
  {
   "cell_type": "code",
   "execution_count": 8,
   "metadata": {},
   "outputs": [
    {
     "name": "stdout",
     "output_type": "stream",
     "text": [
      "Baten gemiddeld per jaar (*1000 euro)\n",
      "2.1741344878259823\n",
      "18.05360569576514\n"
     ]
    }
   ],
   "source": [
    "m = 'Maasbracht_Kosten_per_jaar_Maatregel pompefficientie 90%'\n",
    "\n",
    "print('Baten gemiddeld per jaar (*1000 euro)')\n",
    "print((schadeperjaar[r].loc[('Ref', 'Gemiddelde'), :].sum() - schadeperjaar[m].loc[('Ref', 'Gemiddelde'), :].sum()) * 1000)\n",
    "print((schadeperjaar[r].loc[('WH_2050', 'Gemiddelde'), :].sum() - schadeperjaar[m].loc[('WH_2050', 'Gemiddelde'), :].sum()) * 1000)"
   ]
  },
  {
   "cell_type": "code",
   "execution_count": 9,
   "metadata": {},
   "outputs": [
    {
     "name": "stdout",
     "output_type": "stream",
     "text": [
      "Baten gemiddeld per jaar (*1000 euro)\n",
      "2.9183740504696716\n",
      "25.252671878301214\n"
     ]
    }
   ],
   "source": [
    "m = 'Maasbracht_Kosten_per_jaar_Maatregel hogere pompcapaciteit'\n",
    "\n",
    "print('Baten gemiddeld per jaar (*1000 euro)')\n",
    "print((schadeperjaar[r].loc[('Ref', 'Gemiddelde'), :].sum() - schadeperjaar[m].loc[('Ref', 'Gemiddelde'), :].sum()) * 1000)\n",
    "print((schadeperjaar[r].loc[('WH_2050', 'Gemiddelde'), :].sum() - schadeperjaar[m].loc[('WH_2050', 'Gemiddelde'), :].sum()) * 1000)"
   ]
  },
  {
   "cell_type": "markdown",
   "metadata": {},
   "source": [
    "## Born"
   ]
  },
  {
   "cell_type": "code",
   "execution_count": 10,
   "metadata": {},
   "outputs": [],
   "source": [
    "r = 'Born_Kosten_per_jaar_Gelijke kosten'"
   ]
  },
  {
   "cell_type": "code",
   "execution_count": 11,
   "metadata": {},
   "outputs": [
    {
     "name": "stdout",
     "output_type": "stream",
     "text": [
      "Baten gemiddeld per jaar (*1000 euro)\n",
      "2.191147399604361\n",
      "14.135648021247254\n"
     ]
    }
   ],
   "source": [
    "m = 'Born_Kosten_per_jaar_Maatregel pompefficientie 70%'\n",
    "\n",
    "print('Baten gemiddeld per jaar (*1000 euro)')\n",
    "print((schadeperjaar[r].loc[('Ref', 'Gemiddelde'), :].sum() - schadeperjaar[m].loc[('Ref', 'Gemiddelde'), :].sum()) * 1000)\n",
    "print((schadeperjaar[r].loc[('WH_2050', 'Gemiddelde'), :].sum() - schadeperjaar[m].loc[('WH_2050', 'Gemiddelde'), :].sum()) * 1000)"
   ]
  },
  {
   "cell_type": "code",
   "execution_count": 12,
   "metadata": {},
   "outputs": [
    {
     "name": "stdout",
     "output_type": "stream",
     "text": [
      "Baten gemiddeld per jaar (*1000 euro)\n",
      "3.2553475831920626\n",
      "21.00107351569766\n"
     ]
    }
   ],
   "source": [
    "m = 'Born_Kosten_per_jaar_Maatregel pompefficientie 80%'\n",
    "\n",
    "print('Baten gemiddeld per jaar (*1000 euro)')\n",
    "print((schadeperjaar[r].loc[('Ref', 'Gemiddelde'), :].sum() - schadeperjaar[m].loc[('Ref', 'Gemiddelde'), :].sum()) * 1000)\n",
    "print((schadeperjaar[r].loc[('WH_2050', 'Gemiddelde'), :].sum() - schadeperjaar[m].loc[('WH_2050', 'Gemiddelde'), :].sum()) * 1000)"
   ]
  },
  {
   "cell_type": "code",
   "execution_count": 13,
   "metadata": {},
   "outputs": [
    {
     "name": "stdout",
     "output_type": "stream",
     "text": [
      "Baten gemiddeld per jaar (*1000 euro)\n",
      "4.08305883709361\n",
      "26.340848900270192\n"
     ]
    }
   ],
   "source": [
    "m = 'Born_Kosten_per_jaar_Maatregel pompefficientie 90%'\n",
    "\n",
    "print('Baten gemiddeld per jaar (*1000 euro)')\n",
    "print((schadeperjaar[r].loc[('Ref', 'Gemiddelde'), :].sum() - schadeperjaar[m].loc[('Ref', 'Gemiddelde'), :].sum()) * 1000)\n",
    "print((schadeperjaar[r].loc[('WH_2050', 'Gemiddelde'), :].sum() - schadeperjaar[m].loc[('WH_2050', 'Gemiddelde'), :].sum()) * 1000)"
   ]
  },
  {
   "cell_type": "code",
   "execution_count": 14,
   "metadata": {},
   "outputs": [
    {
     "name": "stdout",
     "output_type": "stream",
     "text": [
      "Baten gemiddeld per jaar (*1000 euro)\n",
      "1.494841067640057\n",
      "9.3661213261792\n"
     ]
    }
   ],
   "source": [
    "r = 'Born_Kosten_per_jaar_Zuinig schutregime dan pompen'\n",
    "m = 'Born_Kosten_per_jaar_Maatregel hogere pompcapaciteit'\n",
    "\n",
    "print('Baten gemiddeld per jaar (*1000 euro)')\n",
    "print((schadeperjaar[r].loc[('Ref', 'Gemiddelde'), :].sum() - schadeperjaar[m].loc[('Ref', 'Gemiddelde'), :].sum()) * 1000)\n",
    "print((schadeperjaar[r].loc[('WH_2050', 'Gemiddelde'), :].sum() - schadeperjaar[m].loc[('WH_2050', 'Gemiddelde'), :].sum()) * 1000)"
   ]
  },
  {
   "cell_type": "markdown",
   "metadata": {},
   "source": [
    "# Hevelend schutten"
   ]
  },
  {
   "cell_type": "code",
   "execution_count": 15,
   "metadata": {},
   "outputs": [
    {
     "name": "stdout",
     "output_type": "stream",
     "text": [
      "Baten gemiddeld per jaar (*1000 euro)\n",
      "17.695290084180044\n",
      "54.18381655346062\n"
     ]
    }
   ],
   "source": [
    "m = 'Born_Kosten_per_jaar_Maatregel hevelend'\n",
    "\n",
    "print('Baten gemiddeld per jaar (*1000 euro)')\n",
    "print((schadeperjaar[r].loc[('Ref', 'Gemiddelde'), :].sum() - schadeperjaar[m].loc[('Ref', 'Gemiddelde'), :].sum()) * 1000)\n",
    "print((schadeperjaar[r].loc[('WH_2050', 'Gemiddelde'), :].sum() - schadeperjaar[m].loc[('WH_2050', 'Gemiddelde'), :].sum()) * 1000)"
   ]
  },
  {
   "cell_type": "code",
   "execution_count": 16,
   "metadata": {},
   "outputs": [
    {
     "name": "stdout",
     "output_type": "stream",
     "text": [
      "Baten gemiddeld per jaar (*1000 euro)\n",
      "34.113953040430935\n",
      "84.21684293859016\n"
     ]
    }
   ],
   "source": [
    "m = 'Heel_Kosten_per_jaar_Maatregel hevelend'\n",
    "\n",
    "print('Baten gemiddeld per jaar (*1000 euro)')\n",
    "print((schadeperjaar[r].loc[('Ref', 'Gemiddelde'), :].sum() - schadeperjaar[m].loc[('Ref', 'Gemiddelde'), :].sum()) * 1000)\n",
    "print((schadeperjaar[r].loc[('WH_2050', 'Gemiddelde'), :].sum() - schadeperjaar[m].loc[('WH_2050', 'Gemiddelde'), :].sum()) * 1000)"
   ]
  },
  {
   "cell_type": "markdown",
   "metadata": {},
   "source": [
    "# Spaarbekken"
   ]
  },
  {
   "cell_type": "code",
   "execution_count": 23,
   "metadata": {},
   "outputs": [
    {
     "name": "stdout",
     "output_type": "stream",
     "text": [
      "Maatregel 1 klein spaarbekken\n",
      "Baten gemiddeld per jaar (*1000 euro)\n",
      "6.37710692117617\n",
      "3.3608355907217833\n",
      "\n",
      "Maatregel 2 kleine spaarbekkens\n",
      "Baten gemiddeld per jaar (*1000 euro)\n",
      "5.910674895911516\n",
      "8.981479724863211\n",
      "\n",
      "Maatregel 3 middelgrote spaarbekkens\n",
      "Baten gemiddeld per jaar (*1000 euro)\n",
      "3.1617147715246805\n",
      "5.798628089119378\n",
      "\n",
      "Maatregel 1 groot spaarbekken\n",
      "Baten gemiddeld per jaar (*1000 euro)\n",
      "9.872963622593254\n",
      "15.151849789806187\n",
      "\n",
      "Maatregel 2 grote spaarbekkens\n",
      "Baten gemiddeld per jaar (*1000 euro)\n",
      "7.6471719745978755\n",
      "16.35469729612718\n",
      "\n",
      "Maatregel 3 grote spaarbekkens\n",
      "Baten gemiddeld per jaar (*1000 euro)\n",
      "3.437073738582576\n",
      "7.480830598279587\n",
      "\n"
     ]
    }
   ],
   "source": [
    "for spaarbekken in [\n",
    "'Maatregel 1 klein spaarbekken',\n",
    "'Maatregel 2 kleine spaarbekkens',\n",
    "'Maatregel 3 middelgrote spaarbekkens',\n",
    "'Maatregel 1 groot spaarbekken',\n",
    "'Maatregel 2 grote spaarbekkens',\n",
    "'Maatregel 3 grote spaarbekkens',\n",
    "]:\n",
    "    m = 'Born_Kosten_per_jaar_' + spaarbekken\n",
    "\n",
    "    print(spaarbekken)\n",
    "    print('Baten gemiddeld per jaar (*1000 euro)')\n",
    "    print((schadeperjaar[r].loc[('Ref', 'Gemiddelde'), :].sum() - schadeperjaar[m].loc[('Ref', 'Gemiddelde'), :].sum()) * 1000)\n",
    "    print((schadeperjaar[r].loc[('WH_2050', 'Gemiddelde'), :].sum() - schadeperjaar[m].loc[('WH_2050', 'Gemiddelde'), :].sum()) * 1000)\n",
    "    print()"
   ]
  },
  {
   "cell_type": "code",
   "execution_count": 54,
   "metadata": {},
   "outputs": [],
   "source": [
    "df = pd.concat(schadeperjaar, axis=1).loc[(['Ref', 'GL_2050', 'WH_2050'], 'Gemiddelde'), :].stack(0).swaplevel(-1, 0).sort_index().unstack(-1).swaplevel(axis=1).sort_index(axis=1) * 1000\n"
   ]
  },
  {
   "cell_type": "code",
   "execution_count": 55,
   "metadata": {},
   "outputs": [],
   "source": [
    "df.index = pd.MultiIndex.from_tuples([(i1.split('_')[0], i1.split('_')[-1]) for i1, i2 in df.index])"
   ]
  },
  {
   "cell_type": "code",
   "execution_count": 57,
   "metadata": {},
   "outputs": [],
   "source": [
    "df.to_excel(outputdir / 'Samenvatting_schade_per_jaar.xlsx')"
   ]
  },
  {
   "cell_type": "code",
   "execution_count": null,
   "metadata": {},
   "outputs": [],
   "source": []
  }
 ],
 "metadata": {
  "kernelspec": {
   "display_name": "Python 3",
   "language": "python",
   "name": "python3"
  },
  "language_info": {
   "codemirror_mode": {
    "name": "ipython",
    "version": 3
   },
   "file_extension": ".py",
   "mimetype": "text/x-python",
   "name": "python",
   "nbconvert_exporter": "python",
   "pygments_lexer": "ipython3",
   "version": "3.7.3"
  }
 },
 "nbformat": 4,
 "nbformat_minor": 4
}
