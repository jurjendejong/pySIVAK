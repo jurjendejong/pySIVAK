{
 "cells": [
  {
   "cell_type": "code",
   "execution_count": 1,
   "metadata": {},
   "outputs": [],
   "source": [
    "%load_ext autoreload\n",
    "%autoreload 2"
   ]
  },
  {
   "cell_type": "code",
   "execution_count": 2,
   "metadata": {},
   "outputs": [],
   "source": [
    "import numpy as np\n",
    "import matplotlib.pyplot as plt\n",
    "from copy import deepcopy\n",
    "import pandas as pd\n",
    "import matplotlib.ticker as mtick\n",
    "from pathlib import Path"
   ]
  },
  {
   "cell_type": "code",
   "execution_count": 3,
   "metadata": {},
   "outputs": [],
   "source": [
    "from sluis_hevelend import SluisHevelend"
   ]
  },
  {
   "cell_type": "markdown",
   "metadata": {},
   "source": [
    "# Hevelend"
   ]
  },
  {
   "cell_type": "code",
   "execution_count": 4,
   "metadata": {},
   "outputs": [],
   "source": [
    "outputdir = Path('Toepassing rekenmodel hevelend schutten')"
   ]
  },
  {
   "cell_type": "code",
   "execution_count": 5,
   "metadata": {},
   "outputs": [],
   "source": [
    "alpha = 1\n",
    "A = 7  # Doorstroomoppervlakte x coef van nivelleer mechaniek\n",
    "A_hevelen = 2.5  # Doorstroomoppervlakte x coef van hevelende mechaniek\n",
    "O_A = 2500\n",
    "H = 10.85\n",
    "T_l = 2*60\n",
    "T_l_hevelen = 5*60"
   ]
  },
  {
   "cell_type": "code",
   "execution_count": 6,
   "metadata": {},
   "outputs": [],
   "source": [
    "S = SluisHevelend(A_hevelen=A_hevelen, A=A, H=H, O_A=O_A, alpha=1, T_l=T_l, T_l_hevelen=T_l_hevelen)"
   ]
  },
  {
   "cell_type": "code",
   "execution_count": null,
   "metadata": {},
   "outputs": [],
   "source": [
    "for aandeel_hevelend in np.linspace(0, 1, 11):\n",
    "    S.gamma = aandeel_hevelend\n",
    "    z, t = S.tijdserie()\n",
    "\n",
    "    plt.plot(t / 60, z, label=f'{aandeel_hevelend:.0%}')\n",
    "    \n",
    "plt.grid()\n",
    "plt.xlabel('Nivelleertijd (min)')\n",
    "plt.ylabel('Nivelleerhoogte (m)')\n",
    "\n",
    "plt.xlim(0, )\n",
    "plt.ylim(0, H)\n",
    "plt.legend(loc='center left', bbox_to_anchor=(1, 0.5), title='$\\gamma$')\n",
    "plt.title('Effect van maar deel van mogelijke hoogte hevelend schutten')\n",
    "\n",
    "plt.savefig(    outputdir / f'Deels hevelend schutten.png', bbox_inches='tight', dpi=150)\n",
    "plt.savefig(    outputdir / f'Deels hevelend schutten.svg', bbox_inches='tight')"
   ]
  },
  {
   "cell_type": "code",
   "execution_count": null,
   "metadata": {},
   "outputs": [],
   "source": [
    "plt.subplots(figsize=(20, 6))\n",
    "colors = plt.rcParams['axes.prop_cycle'].by_key()['color'] + plt.rcParams['axes.prop_cycle'].by_key()['color']\n",
    "\n",
    "for ii, aandeel_hevelend in enumerate(np.linspace(0, 1, 4)):\n",
    "    S.gamma = aandeel_hevelend\n",
    "\n",
    "    z, t = S.tijdserie()\n",
    "    plt.plot(t, z, label=f'{aandeel_hevelend:.0%}', color=colors[ii], ls=':')\n",
    "    plt.scatter(t[-1], z[-1], color=colors[ii] )\n",
    "\n",
    "\n",
    "    z_n, t_n = S.tijdseries_numeriek()\n",
    "    plt.plot(t_n, z_n, label=f'{aandeel_hevelend:.0%}', color=colors[ii])\n",
    "    plt.scatter(t_n[-1], z_n[-1], color=colors[ii] )\n",
    "    \n",
    "    \n",
    "    z_n, t_n = S.tijdseries_numeriek(tijd_stop_hevelen=np.inf)\n",
    "    plt.plot(t_n, z_n, label=f'{aandeel_hevelend:.0%}', color=colors[ii], ls=(0, (5, 3, 1, 3, 1, 3)))\n",
    "    plt.scatter(t_n[-1], z_n[-1], color=colors[ii] )\n",
    "    \n",
    "    z_n, t_n = S.tijdseries_numeriek(tijd_start_normaal = S.tijd_hevelend-S.T_l/2)\n",
    "    plt.plot(t_n, z_n, label=f'{aandeel_hevelend:.0%}', color=colors[ii], ls='-.')\n",
    "    plt.scatter(t_n[-1], z_n[-1], color=colors[ii] )\n",
    "    \n",
    "    \n",
    "    z_n, t_n = S.tijdseries_numeriek(tijd_start_normaal = S.tijd_hevelend-S.T_l/2, tijd_stop_hevelen=np.inf)\n",
    "    plt.plot(t_n, z_n, label=f'{aandeel_hevelend:.0%}', color=colors[ii], ls='--')\n",
    "    plt.scatter(t_n[-1], z_n[-1], color=colors[ii] )\n",
    "    \n",
    "    \n",
    "plt.grid()\n",
    "loc = plt.gca().get_xticks()\n",
    "loc_new = np.arange(0, max(loc), 5*60)\n",
    "labels_new = [f'{l/60:.0f}' for l in loc_new]\n",
    "plt.xticks(loc_new, labels_new)\n",
    "plt.xlabel('Nivelleertijd (min)')\n",
    "plt.ylabel('Nivelleerhoogte (m)')\n",
    "plt.title('Effect numeriek model')\n",
    "plt.legend(['Analytisch model', 'Numeriek model', '+ hevelend', '+ eerder normaal', '+ eerder normaal & hevelend'])\n",
    "\n",
    "plt.savefig(    outputdir / f'Verbeteringen numeriek model.png', bbox_inches='tight', dpi=150)\n",
    "plt.savefig(    outputdir / f'Verbeteringen numeriek model.svg', bbox_inches='tight')"
   ]
  },
  {
   "cell_type": "code",
   "execution_count": null,
   "metadata": {},
   "outputs": [],
   "source": [
    "V_besparing_procentueel = {}\n",
    "T_toename = {}\n",
    "\n",
    "# S.T_l = 120\n",
    "# S.T_l_hevelen = 300\n",
    "\n",
    "for aandeel_hevelend in np.linspace(0, 1, 100):\n",
    "    \n",
    "    S.gamma = aandeel_hevelend\n",
    "    \n",
    "    V_besparing_procentueel[aandeel_hevelend] = S.volumeaandeel_waterbesparing\n",
    "    T_toename[aandeel_hevelend] = S.tijd_totaal / 60\n",
    "    \n",
    "df = pd.Series(index=V_besparing_procentueel, data=T_toename,)\n",
    "df.plot(label='Alle schuttingen voor percentage hevelend')\n",
    "\n",
    "df.iloc[[0, -1]].plot(label='Percentage van schuttingen volledig hevelend')\n",
    "# plt.xlabel('Percentage hevelend ($\\gamma$)')\n",
    "plt.gca().xaxis.set_major_formatter(mtick.PercentFormatter(xmax=1))\n",
    "plt.ylabel('Nivelleertijd (min)')\n",
    "plt.grid()\n",
    "plt.legend(loc='lower right')\n",
    "\n",
    "plt.savefig(    outputdir / f'Percentage_schuttingen.png', bbox_inches='tight', dpi=150)\n",
    "plt.savefig(    outputdir / f'Percentage_schuttingen.svg', bbox_inches='tight')"
   ]
  }
 ],
 "metadata": {
  "kernelspec": {
   "display_name": "Python 3",
   "language": "python",
   "name": "python3"
  },
  "language_info": {
   "codemirror_mode": {
    "name": "ipython",
    "version": 3
   },
   "file_extension": ".py",
   "mimetype": "text/x-python",
   "name": "python",
   "nbconvert_exporter": "python",
   "pygments_lexer": "ipython3",
   "version": "3.7.3"
  }
 },
 "nbformat": 4,
 "nbformat_minor": 4
}
