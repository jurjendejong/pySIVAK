{
 "cells": [
  {
   "cell_type": "code",
   "execution_count": 20,
   "metadata": {},
   "outputs": [],
   "source": [
    "import numpy as np\n",
    "import matplotlib.pyplot as plt"
   ]
  },
  {
   "cell_type": "markdown",
   "metadata": {},
   "source": [
    "# Numeriek model"
   ]
  },
  {
   "cell_type": "code",
   "execution_count": 25,
   "metadata": {},
   "outputs": [],
   "source": [
    "# Numeriek model spaarbekkens\n",
    "\n",
    "ii=0\n",
    "\n",
    "H = 1\n",
    "\n",
    "z = H\n",
    "H1 = 2/3\n",
    "H2 = 1/3\n",
    "\n",
    "alpha1 = 0.1\n",
    "alpha2 = 0.1\n",
    "\n",
    "z_series = []\n",
    "H1_series = []\n",
    "H2_series = []\n",
    "\n",
    "\n",
    "def update_series():\n",
    "    z_series.append(z)\n",
    "    H1_series.append(H1)\n",
    "    H2_series.append(H2)\n",
    "\n",
    "update_series()\n",
    "    \n",
    "while ii < 5:\n",
    "    \n",
    "    # Neergaand\n",
    "    dz = (z - H1) * (alpha1 / (alpha1+1))\n",
    "    dH1 = dz / alpha1\n",
    "    \n",
    "    z -= dz\n",
    "    H1 += dH1\n",
    "    update_series()\n",
    "    \n",
    "    dz = (z - H2) * (alpha2 / (alpha2+1))\n",
    "    dH2 = dz / alpha2\n",
    "    \n",
    "    z -= dz\n",
    "    H2 += dH2\n",
    "    update_series()\n",
    "    \n",
    "    # lozen tot beneden\n",
    "    z = 0\n",
    "    update_series()\n",
    "    \n",
    "    # Opgaand\n",
    "    dz = (H2 - z) * (alpha2 / (alpha2+1))\n",
    "    dH2 = dz / alpha2\n",
    "    \n",
    "    z += dz\n",
    "    H2 -= dH2\n",
    "    update_series()\n",
    "    \n",
    "    dz = (H1 - z) * (alpha1 / (alpha1+1))\n",
    "    dH1 = dz / alpha1\n",
    "    \n",
    "    z += dz\n",
    "    H1 -= dH1\n",
    "    update_series()\n",
    "    \n",
    "    #Aanvullen tot top\n",
    "    z = H\n",
    "    update_series()\n",
    "    \n",
    "    ii +=1\n",
    "    "
   ]
  },
  {
   "cell_type": "code",
   "execution_count": 27,
   "metadata": {},
   "outputs": [
    {
     "data": {
      "text/plain": [
       "(24.0, 31.5)"
      ]
     },
     "execution_count": 27,
     "metadata": {},
     "output_type": "execute_result"
    },
    {
     "data": {
      "image/png": "[encoded data removed]",
      "text/plain": [
       "<Figure size 432x288 with 1 Axes>"
      ]
     },
     "metadata": {
      "needs_background": "light"
     },
     "output_type": "display_data"
    }
   ],
   "source": [
    "plt.plot(z_series)\n",
    "plt.plot(H1_series)\n",
    "plt.plot(H2_series)\n",
    "plt.xlim(24)"
   ]
  },
  {
   "cell_type": "markdown",
   "metadata": {},
   "source": [
    "# Spaarbekkens bij Born"
   ]
  },
  {
   "cell_type": "code",
   "execution_count": 116,
   "metadata": {},
   "outputs": [],
   "source": [
    "import matplotlib.pyplot as plt\n",
    "from pathlib import Path"
   ]
  },
  {
   "cell_type": "code",
   "execution_count": 117,
   "metadata": {},
   "outputs": [],
   "source": [
    "outputdir = Path('Spaarbekken')"
   ]
  },
  {
   "cell_type": "code",
   "execution_count": 156,
   "metadata": {},
   "outputs": [],
   "source": [
    "def compute_and_plot():\n",
    "    q = alpha*n / (alpha*n + alpha + 1)\n",
    "    dz = alpha / (alpha*n + alpha + 1) * H\n",
    "    dH = dz / alpha\n",
    "\n",
    "    H_sb = dz*(n-np.arange(1, n+1,1)+1+1/(2*alpha))\n",
    "\n",
    "    T = lambda H: (2 * O_midden / (A_s * np.sqrt(2*9.81) * (1/alpha + 1))) * H**0.5\n",
    "    T0 = lambda H: (2 * O_midden / (A_k * np.sqrt(2*9.81))) * H**0.5\n",
    "    T_tot = n*T(1+1/alpha) + T0(1+1/alpha)\n",
    "    print(T_tot)\n",
    "\n",
    "    plt.subplots(figsize=(4,3))\n",
    "    plt.plot([0, 0, 10, 10], [11.35, 0, 0, 11.35])\n",
    "    for h in H_sb:\n",
    "        plt.plot(13 + np.array([0, 0, 10*alpha, 10*alpha, 0]), [h + dH*0.5, h - dH*0.5, h - dH*0.5, h + dH*0.5, h + dH*0.5])\n",
    "\n",
    "    plt.annotate(\n",
    "        '', xy=(13, 0), xycoords='data',\n",
    "        xytext=(13 + 10*alpha, 0), textcoords='data',\n",
    "        arrowprops={'arrowstyle': '<->'})\n",
    "\n",
    "    plt.annotate(\n",
    "        f'alpha: {alpha:.1f}', xy=(13+5*alpha, 0.1), xycoords='data',\n",
    "        xytext=(5, 0.1), textcoords='offset points', ha='center', va='bottom')\n",
    "\n",
    "    plt.annotate(f'q: {q:.0%}\\nT: {T_tot/60:.1f} min', xy=(13 + 10*alpha - 0.5, H), bbox=dict(boxstyle='square', fc='white'), va='top', ha='right')\n",
    "    plt.grid(c='#DDD')\n",
    "    plt.tick_params(\n",
    "        axis='x',          # changes apply to the x-axis\n",
    "        which='both',      # both major and minor ticks are affected\n",
    "        bottom=False,      # ticks along the bottom edge are off\n",
    "        top=False,         # ticks along the top edge are off\n",
    "        labelbottom=False) # labels along the bottom edge are off\n",
    "\n",
    "    plt.savefig(outputdir / f'spaarbekken_{lock}_n{n}_alpha{alpha:.1f}.png', bbox_inches='tight', dpi=150)"
   ]
  },
  {
   "cell_type": "code",
   "execution_count": 159,
   "metadata": {},
   "outputs": [
    {
     "name": "stdout",
     "output_type": "stream",
     "text": [
      "303.8833491602979\n"
     ]
    },
    {
     "data": {
      "image/png": "[encoded data removed]",
      "text/plain": [
       "<Figure size 288x216 with 1 Axes>"
      ]
     },
     "metadata": {
      "needs_background": "light"
     },
     "output_type": "display_data"
    }
   ],
   "source": [
    "O_midden = 3872 # m2\n",
    "O_bekken = 62 * 130 # m2\n",
    "lock = 'Maasbracht'\n",
    "\n",
    "alpha = O_bekken / O_midden\n",
    "n = 0\n",
    "H = 11.35\n",
    "\n",
    "A_s = 3\n",
    "A_k = 7\n",
    "\n",
    "compute_and_plot()\n"
   ]
  },
  {
   "cell_type": "code",
   "execution_count": 134,
   "metadata": {},
   "outputs": [],
   "source": []
  },
  {
   "cell_type": "code",
   "execution_count": 136,
   "metadata": {},
   "outputs": [],
   "source": []
  },
  {
   "cell_type": "code",
   "execution_count": null,
   "metadata": {},
   "outputs": [],
   "source": []
  }
 ],
 "metadata": {
  "kernelspec": {
   "display_name": "Python 3",
   "language": "python",
   "name": "python3"
  },
  "language_info": {
   "codemirror_mode": {
    "name": "ipython",
    "version": 3
   },
   "file_extension": ".py",
   "mimetype": "text/x-python",
   "name": "python",
   "nbconvert_exporter": "python",
   "pygments_lexer": "ipython3",
   "version": "3.7.3"
  }
 },
 "nbformat": 4,
 "nbformat_minor": 4
}
