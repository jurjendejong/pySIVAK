{
 "cells": [
  {
   "cell_type": "code",
   "execution_count": 1,
   "metadata": {},
   "outputs": [],
   "source": [
    "%load_ext autoreload\n",
    "%autoreload 2"
   ]
  },
  {
   "cell_type": "code",
   "execution_count": 2,
   "metadata": {},
   "outputs": [],
   "source": [
    "from pySIVAK import pySIVAK"
   ]
  },
  {
   "cell_type": "code",
   "execution_count": 3,
   "metadata": {},
   "outputs": [],
   "source": [
    "from pathlib import Path\n",
    "import pandas as pd\n",
    "import numpy as np\n",
    "import matplotlib.pyplot as plt\n",
    "import seaborn as sns\n",
    "from matplotlib.colors import LogNorm\n",
    "import itertools\n",
    "import json"
   ]
  },
  {
   "cell_type": "code",
   "execution_count": 4,
   "metadata": {},
   "outputs": [],
   "source": [
    "inputdir = Path(r'../../data_results')\n",
    "settingsdir = Path('Invoer')\n",
    "outputdir = Path('Ontwerp laagwaterbeleid')"
   ]
  },
  {
   "cell_type": "markdown",
   "metadata": {},
   "source": [
    "# Set scenario's"
   ]
  },
  {
   "cell_type": "code",
   "execution_count": 5,
   "metadata": {},
   "outputs": [],
   "source": [
    "with open(settingsdir / 'settings.json') as f:\n",
    "      settings = json.load(f)\n",
    "        \n",
    "water_plane = settings['water_plane']\n",
    "dH = settings['dH']\n",
    "max_pomp_inzet = settings['max_pomp_inzet']\n",
    "\n",
    "with open(settingsdir / 'simulations.json') as f:\n",
    "      simulations = json.load(f)\n",
    "\n",
    "with open(settingsdir / 'laagwaterbeleid.json') as f:\n",
    "      laagwaterbeleid = json.load(f)\n",
    "\n",
    "# Set scenario's\n",
    "# lock = 'Maasbracht'\n",
    "# lock = 'Born'\n",
    "lock = 'Heel'\n",
    "\n",
    "LWB = laagwaterbeleid[lock]\n",
    "SIVAK_scenarios = simulations[lock]"
   ]
  },
  {
   "cell_type": "code",
   "execution_count": 6,
   "metadata": {},
   "outputs": [],
   "source": [
    "all_LWB_scenarios = [list(LWB.values())[0]] + [item for sublist in list(LWB.values())[1:] for item in sublist] "
   ]
  },
  {
   "cell_type": "code",
   "execution_count": 7,
   "metadata": {},
   "outputs": [],
   "source": [
    "# Compute max waiting time, based on scenario-name\n",
    "maximum_waiting_time = {s: float(s.split(' ')[-1]) / 60 if s.startswith(\"R \") else 9999 for s in all_LWB_scenarios }"
   ]
  },
  {
   "cell_type": "code",
   "execution_count": 8,
   "metadata": {},
   "outputs": [],
   "source": [
    "seconde_per_week = 7*24*60*60\n",
    "pompkosten_per_seconde = settings['pomp_kosten'][lock]"
   ]
  },
  {
   "cell_type": "markdown",
   "metadata": {},
   "source": [
    "# Read results"
   ]
  },
  {
   "cell_type": "code",
   "execution_count": 9,
   "metadata": {},
   "outputs": [
    {
     "name": "stdout",
     "output_type": "stream",
     "text": [
      "SLH KBN 0 - Base - REF\n"
     ]
    },
    {
     "name": "stderr",
     "output_type": "stream",
     "text": [
      "INFO:numexpr.utils:NumExpr defaulting to 4 threads.\n"
     ]
    },
    {
     "name": "stdout",
     "output_type": "stream",
     "text": [
      "SLH KBN 1 - R 40 80 30 - R 40 80 30\n",
      "SLH KBN 2 - R 40 80 60 - R 40 80 60\n",
      "SLH KBN 3 - R 40 80 90 - R 40 80 90\n",
      "SLH KBN 4 - R 60 80 90 - R 60 80 90\n",
      "SLH KBN 5 - R 80 80 90 - R 80 80 90\n",
      "SLH KBN 6 - R 80 80 110 - R 80 80 110\n"
     ]
    }
   ],
   "source": [
    "# Read instances for all runs in dict\n",
    "S = {}\n",
    "\n",
    "for scenario, name in SIVAK_scenarios.items():\n",
    "    if not name in all_LWB_scenarios: continue\n",
    "    print(f'{scenario} - {name}')\n",
    "    \n",
    "    summary_file =       inputdir / lock / 'KPI LockChambers Summary' / f'KPI_LockChambers_Summary_Avg ({scenario}).xlsx'\n",
    "    ships_file =         inputdir / lock / 'Log Generated Ships' / f'Log Generated Ships ({scenario}).xlsx'\n",
    "    levelings_file =     inputdir / lock / 'Log Locks Leveling' / f'Log Locks Leveling ({scenario}).xlsx'\n",
    "    transit_times_file = inputdir / lock / 'Log Locks Transit Times' / f'Log Locks Transit Times ({scenario}).xlsx'\n",
    "\n",
    "    s = pySIVAK(levelings_file, transit_times_file, ships_file, summary_file)\n",
    "    \n",
    "    s.correction_waitingtimes_without_new_arrivals(maximum_waiting_time=maximum_waiting_time[name])\n",
    "    s.correction_leveling_without_utilization()\n",
    "    s.correction_waterloss(water_plane=water_plane[lock], dH=dH[lock], downward_leveling_side=1, correct_ship_volume=True)\n",
    "    \n",
    "    s.name = name\n",
    "    \n",
    "    S[name] = s\n"
   ]
  },
  {
   "cell_type": "code",
   "execution_count": 10,
   "metadata": {},
   "outputs": [],
   "source": [
    "# Read and translate costs per shiptype\n",
    "costs_per_ship_per_hour_appearance = pd.read_excel(settingsdir / 'Costs_per_shiptype.xlsx', index_col=0, header=[0,1])['Costs_per_h']\n",
    "costs_per_ship_per_hour_appearance['Beladen'] = pd.read_excel(settingsdir / 'Costs_per_shiptype.xlsx', index_col=0, header=[0,1])['Costs_per_h'][['Container', 'Droge bulk', 'Natte bulk']].mean()\n",
    "\n",
    "costs_per_ship_per_hour = costs_per_ship_per_hour_appearance[['Beladen', 'Leeg']].mean(axis=1)\n",
    "\n",
    "costs_per_ship_per_hour['overig'] = 70\n",
    "costs_per_ship_per_hour['recreatievaart'] = 0\n",
    "\n",
    "# Correctie naar 2019:\n",
    "costs_per_ship_per_hour = costs_per_ship_per_hour * 1.043\n",
    "\n",
    "vertaaltabel_SIVAK_BIVAS = pd.read_excel(settingsdir / 'Vertaaltabel_SIVAK_BIVAS.xlsx',index_col=0)\n",
    "\n",
    "cost_per_sivakship_per_hour = vertaaltabel_SIVAK_BIVAS.reset_index().merge(costs_per_ship_per_hour.reset_index(), left_on='BIVAS-ship', right_on='ShipTypeID').set_index('SIVAK-ship')[0]\n",
    "cost_per_sivakship_per_minute = cost_per_sivakship_per_hour / 60\n",
    "\n",
    "\n",
    "def compute_costs_per_hour(self):\n",
    "    T = self.passage_time_per_hour_per_day_per_ship_sum()\n",
    "    costs_per_ship_per_hour = T.multiply(cost_per_sivakship_per_minute, axis=1)\n",
    "    costs_per_hour = costs_per_ship_per_hour.sum(axis=1).unstack().fillna(0)\n",
    "    return costs_per_hour"
   ]
  },
  {
   "cell_type": "code",
   "execution_count": 11,
   "metadata": {},
   "outputs": [],
   "source": [
    "# Compute some numbers per scenario: average discharge (m3/s), average passage time (minutes), costs for ships per week (eur)\n",
    "Q_avg = {name: s.waterloss_per_hour_per_day().mean().mean() for name, s in S.items()}\n",
    "T_avg = {name: s.transit_times['Passage time (hours)'].mean() * 60 for name, s in S.items()}\n",
    "K_sum = {name: compute_costs_per_hour(s).sum().sum() for name, s in S.items()}\n",
    "\n",
    "scenarios = pd.DataFrame({'Passage time average (min)': T_avg, 'Discharge average (m3/s)': Q_avg, 'Shipping costs (eur)': K_sum})"
   ]
  },
  {
   "cell_type": "code",
   "execution_count": 12,
   "metadata": {},
   "outputs": [],
   "source": [
    "scenarios['Pompinzet (m3/s)'] = 0\n",
    "scenarios['Toename kosten scheepvaart (eur) door hevelend'] = 0\n",
    "scenarios['Waterbesparing door hevelend (m3/s)'] = 0\n",
    "scenarios['Toename gemiddelde passeertijd (min) door hevelend'] = 0"
   ]
  },
  {
   "cell_type": "code",
   "execution_count": 13,
   "metadata": {},
   "outputs": [],
   "source": [
    "# Some derived stats\n",
    "scenarios['Besparing debiet scheepvaart (m3/s)'] = scenarios.loc['REF', 'Discharge average (m3/s)'] - scenarios['Discharge average (m3/s)'] \n",
    "scenarios['Toename kosten scheepvaart (eur)'] = scenarios['Shipping costs (eur)'] - scenarios['Shipping costs (eur)'][0]"
   ]
  },
  {
   "cell_type": "markdown",
   "metadata": {},
   "source": [
    "### Hevelend schutten"
   ]
  },
  {
   "cell_type": "code",
   "execution_count": 14,
   "metadata": {},
   "outputs": [],
   "source": [
    "toename_nivelleertijd_functie = lambda besparing_hevelend, schuttingen_hevelend:np.poly1d([  93.62172062, -229.17477846, 216.38636043, -96.43706269, 25.41039102, 0.37724583])(besparing_hevelend) * schuttingen_hevelend # min\n",
    "toename_gem_wachttijd_functie = lambda schuttingen_hevelend: 0 # min\n",
    "\n",
    "def create_scenario_hevelend(ref, schuttingen_hevelend, besparing_hevelend):\n",
    "    \"\"\"\n",
    "    schuttingen_hevelend: [0, 1]\n",
    "    besparing_hevelend: [0, 1] (1 = 100% hevelend = 50% besparing)\n",
    "    \"\"\"\n",
    "\n",
    "    toename_nivelleertijd = toename_nivelleertijd_functie(besparing_hevelend, schuttingen_hevelend) # min\n",
    "    toename_gem_wachttijd = toename_gem_wachttijd_functie(schuttingen_hevelend) # min\n",
    "    \n",
    "\n",
    "    # Aantal op-en-neer schuttingen --> waterbesparing per seconde\n",
    "    n_schuttingen = S[ref].levelings.groupby(['Lock Chamber']).count()['Leveling ID'] / S[ref].replications / 2\n",
    "    volume_zonder_hevelend = n_schuttingen * dH[lock] * pd.Series(water_plane[lock])\n",
    "    volume_besparing_hevelend = 0.5*volume_zonder_hevelend * besparing_hevelend * schuttingen_hevelend\n",
    "    debiet_besparing_hevelend = (volume_besparing_hevelend / seconde_per_week).sum()\n",
    "\n",
    "    # Aantal schepen --> Toename passeerkosten\n",
    "    n_ships_per_types = S[ref].transit_times.groupby('Class')['Lock'].count() / S[ref].replications\n",
    "\n",
    "    minutes_per_shiptype = n_ships_per_types * (toename_nivelleertijd + toename_gem_wachttijd) * schuttingen_hevelend\n",
    "    gemiddelde_toename = minutes_per_shiptype.sum() / n_ships_per_types.sum()\n",
    "\n",
    "    shipping_costs_per_ship = minutes_per_shiptype.multiply(cost_per_sivakship_per_minute).dropna()\n",
    "    shipping_costs_total = shipping_costs_per_ship.sum()\n",
    "\n",
    "    name = f'{ref} H {(schuttingen_hevelend * 100):.0f} {(besparing_hevelend * 100):.0f}'\n",
    "    scenario = scenarios.loc[ref].copy()\n",
    "    scenario.name = name\n",
    "    scenario['Toename gemiddelde passeertijd (min) door hevelend'] = gemiddelde_toename\n",
    "    scenario['Toename kosten scheepvaart (eur) door hevelend'] = shipping_costs_total\n",
    "    scenario['Waterbesparing door hevelend (m3/s)'] = debiet_besparing_hevelend\n",
    "    \n",
    "    return  scenario\n",
    "    \n",
    "if settings['Hevelend'][lock]:\n",
    "    variaties_referenties = LWB['regimes'][:3]\n",
    "    variaties_schuttingen_hevelend = [0.8]\n",
    "    variaties_besparing_hevelend = [0.5, 0.6, 0.7, 0.8, 0.9, 1.0]\n",
    "\n",
    "    for ref, schuttingen_hevelend, besparing_hevelend in itertools.product(variaties_referenties, variaties_schuttingen_hevelend, variaties_besparing_hevelend):\n",
    "        new_scenario = create_scenario_hevelend(ref = ref, schuttingen_hevelend = schuttingen_hevelend, besparing_hevelend = besparing_hevelend)\n",
    "        scenarios = scenarios.append(new_scenario)\n",
    "        print(new_scenario.name)\n",
    "        \n",
    "    variaties_referenties = LWB['regimes'][3:]\n",
    "    variaties_besparing_hevelend = [1.0]\n",
    "\n",
    "    for ref, schuttingen_hevelend, besparing_hevelend in itertools.product(variaties_referenties, variaties_schuttingen_hevelend, variaties_besparing_hevelend):\n",
    "        new_scenario = create_scenario_hevelend(ref = ref, schuttingen_hevelend = schuttingen_hevelend, besparing_hevelend = besparing_hevelend)\n",
    "        scenarios = scenarios.append(new_scenario)\n",
    "        print(new_scenario.name)\n",
    "\n",
    "LWB['hevelend'] = [s for s in scenarios.index if 'H' in s]"
   ]
  },
  {
   "cell_type": "markdown",
   "metadata": {},
   "source": [
    "### Create scenario's with pumps"
   ]
  },
  {
   "cell_type": "code",
   "execution_count": 15,
   "metadata": {},
   "outputs": [],
   "source": [
    "def create_pomp_scenario(s, Q_pump):\n",
    "    name = f'{s} P {Q_pump:.1f}'\n",
    "    scenario = scenarios.loc[s].copy()\n",
    "    scenario.name = name\n",
    "    scenario['Pompinzet (m3/s)'] = Q_pump\n",
    "    return  scenario"
   ]
  },
  {
   "cell_type": "code",
   "execution_count": 16,
   "metadata": {},
   "outputs": [],
   "source": [
    "# Scenario of max pumping in ref\n",
    "\n",
    "\n",
    "if max_pomp_inzet[lock]:\n",
    "    new_scenario = create_pomp_scenario('REF', Q_pump=max_pomp_inzet[lock])\n",
    "    scenarios = scenarios.append(new_scenario)\n",
    "\n",
    "    print(new_scenario.name)"
   ]
  },
  {
   "cell_type": "code",
   "execution_count": 17,
   "metadata": {},
   "outputs": [],
   "source": [
    "if max_pomp_inzet[lock]:\n",
    "    for regime in LWB['regimes'][1:]:\n",
    "        new_scenario = create_pomp_scenario(regime, Q_pump=max_pomp_inzet[lock])\n",
    "        scenarios = scenarios.append(new_scenario)\n",
    "\n",
    "        print(new_scenario.name)"
   ]
  },
  {
   "cell_type": "code",
   "execution_count": 18,
   "metadata": {},
   "outputs": [],
   "source": [
    "# Create scenario's with equal pumps as ships, starting at ref_zuinig\n",
    "if max_pomp_inzet[lock]:\n",
    "\n",
    "    ref_scenarios = LWB['regimes']\n",
    "    if settings['Hevelend'][lock]:\n",
    "        ref_scenarios = [s + ' H 80 100' for s in ref_scenarios]\n",
    "    \n",
    "    besparing = - (scenarios.loc[ref_scenarios, 'Discharge average (m3/s)'] - scenarios.loc[LWB['ref_zuinig'], 'Discharge average (m3/s)'])\n",
    "    besparing = besparing[besparing > 0.001]\n",
    "    besparing.loc[besparing > max_pomp_inzet[lock]] = max_pomp_inzet[lock]\n",
    "\n",
    "    for s, Q in besparing.items():\n",
    "        new_scenario = create_pomp_scenario(s, Q_pump=Q)\n",
    "        scenarios = scenarios.append(new_scenario)\n",
    "\n",
    "        print(new_scenario.name)\n",
    "\n",
    "    Q_extra = max_pomp_inzet[lock]\n",
    "    new_scenario = create_pomp_scenario(s, Q_pump=Q_extra)\n",
    "    scenarios = scenarios.append(new_scenario)\n",
    "\n",
    "    print(new_scenario.name)"
   ]
  },
  {
   "cell_type": "code",
   "execution_count": 19,
   "metadata": {},
   "outputs": [],
   "source": [
    "# Create scenario's with equal costs for pumps as ships, starting at R 40 80 30\n",
    "if max_pomp_inzet[lock]:\n",
    "    \n",
    "    ref_scenarios = LWB['regimes']\n",
    "    if settings['Hevelend'][lock]:\n",
    "        ref_scenarios = [s + ' H 80 100' for s in ref_scenarios]\n",
    "    \n",
    "    besparing = scenarios.loc[ref_scenarios, 'Toename kosten scheepvaart (eur)']  - scenarios.loc[LWB['ref_zuinig'], 'Toename kosten scheepvaart (eur)']\n",
    "    besparing = besparing / (seconde_per_week * pompkosten_per_seconde)\n",
    "    besparing = besparing[besparing > 0.001]\n",
    "    besparing.loc[besparing > max_pomp_inzet[lock]] = max_pomp_inzet[lock]\n",
    "\n",
    "\n",
    "    for s, Q in besparing.items():\n",
    "        new_scenario = create_pomp_scenario(s, Q_pump=Q)\n",
    "        scenarios = scenarios.append(new_scenario)\n",
    "\n",
    "        print(new_scenario.name)\n",
    "        \n",
    "\n",
    "    Q_extra = max_pomp_inzet[lock]\n",
    "    new_scenario = create_pomp_scenario(s, Q_pump=Q_extra)\n",
    "    scenarios = scenarios.append(new_scenario)\n",
    "\n",
    "    print(new_scenario.name)"
   ]
  },
  {
   "cell_type": "code",
   "execution_count": 20,
   "metadata": {},
   "outputs": [],
   "source": [
    "# Max pompen bij zuinig \n",
    "if max_pomp_inzet[lock]:\n",
    "    new_scenario = create_pomp_scenario(LWB['ref_zuinig'], Q_pump=max_pomp_inzet[lock])\n",
    "    scenarios = scenarios.append(new_scenario)\n",
    "\n",
    "    print(new_scenario.name)\n",
    "    \n",
    "    if 'ref_zuinig2' in LWB:\n",
    "        new_scenario = create_pomp_scenario(LWB['ref_zuinig2'], Q_pump=max_pomp_inzet[lock])\n",
    "        scenarios = scenarios.append(new_scenario)\n",
    "\n",
    "        print(new_scenario.name)"
   ]
  },
  {
   "cell_type": "code",
   "execution_count": 21,
   "metadata": {},
   "outputs": [],
   "source": [
    "# Pompen na hevelend\n",
    "if max_pomp_inzet[lock]:\n",
    "    scenarios_hevelend_waarbij_ook_pompen = [s for s in scenarios.index if 'H 100 100' in s]\n",
    "    for s in scenarios_hevelend_waarbij_ook_pompen:\n",
    "        new_scenario = create_pomp_scenario(s, Q_pump=max_pomp_inzet[lock])\n",
    "        scenarios = scenarios.append(new_scenario)"
   ]
  },
  {
   "cell_type": "markdown",
   "metadata": {},
   "source": [
    "### Stats"
   ]
  },
  {
   "cell_type": "code",
   "execution_count": 22,
   "metadata": {},
   "outputs": [],
   "source": [
    "def derived_stats(scenarios):\n",
    "    # Some more derived statistics\n",
    "    scenarios = scenarios.copy()\n",
    "    \n",
    "    scenarios['Totale gemiddelde passeertijd (min)'] = scenarios['Passage time average (min)'] + scenarios['Toename gemiddelde passeertijd (min) door hevelend']\n",
    "\n",
    "    scenarios['Totale toename kosten scheepvaart (eur)'] = scenarios['Toename kosten scheepvaart (eur)'] + scenarios['Toename kosten scheepvaart (eur) door hevelend']\n",
    "    scenarios['Totale toename kosten scheepvaart (eur) per dag'] = scenarios['Totale toename kosten scheepvaart (eur)'] / 7\n",
    "\n",
    "    scenarios['Pompkosten (eur)'] = scenarios['Pompinzet (m3/s)'] * seconde_per_week * pompkosten_per_seconde\n",
    "    scenarios['Pompkosten (eur) per dag'] = scenarios['Pompkosten (eur)'] / 7\n",
    "\n",
    "    scenarios['Totale debiet (m3/s)'] = scenarios['Discharge average (m3/s)'] - scenarios['Pompinzet (m3/s)'] - scenarios['Waterbesparing door hevelend (m3/s)']\n",
    "    scenarios['Totale waterbesparing (m3/s)'] = scenarios['Totale debiet (m3/s)'][0] - scenarios['Totale debiet (m3/s)']\n",
    "\n",
    "    scenarios['Totale kosten (eur)'] = scenarios['Totale toename kosten scheepvaart (eur)'] + scenarios['Pompkosten (eur)']\n",
    "    scenarios['Totale kosten (eur) per dag'] = scenarios['Totale kosten (eur)'] / 7\n",
    "    scenarios['Totale kosten (eur) per uur'] = scenarios['Totale kosten (eur)'] / 7 / 24\n",
    "    \n",
    "    scenarios = scenarios.drop_duplicates()\n",
    "    return scenarios\n",
    "    \n",
    "scenarios = derived_stats(scenarios)"
   ]
  },
  {
   "cell_type": "code",
   "execution_count": 42,
   "metadata": {},
   "outputs": [],
   "source": [
    "# Extrapolatie\n",
    "def add_extrapolated_scen(scenarios, idxmin, penalty):\n",
    "    \n",
    "    scen_new = idxmin + ' extrapolatie'\n",
    "    \n",
    "    scenarios.loc[scen_new] = None\n",
    "    \n",
    "    scenarios.loc[scen_new, 'Totale toename kosten scheepvaart (eur) per dag'] = penalty\n",
    "    scenarios.loc[scen_new, 'Totale debiet (m3/s)'] = 0\n",
    "    scenarios.loc[scen_new, 'Totale waterbesparing (m3/s)'] = scenarios['Totale debiet (m3/s)'][0] - scenarios.loc[scen_new, 'Totale debiet (m3/s)']\n",
    "    scenarios.loc[scen_new, 'Totale kosten (eur) per dag'] = scenarios.loc[scen_new, 'Totale toename kosten scheepvaart (eur) per dag']\n",
    "    scenarios.loc[scen_new, 'Waterbesparing door hevelend (m3/s)'] = scenarios.loc[idxmin, 'Waterbesparing door hevelend (m3/s)']\n",
    "    scenarios.loc[scen_new, 'Pompkosten (eur)'] = 0\n",
    "    scenarios.loc[scen_new, 'Besparing debiet scheepvaart (m3/s)'] = scenarios['Totale debiet (m3/s)'][0]\n",
    "    return scenarios"
   ]
  },
  {
   "cell_type": "code",
   "execution_count": 24,
   "metadata": {},
   "outputs": [],
   "source": [
    "if scenarios['Totale debiet (m3/s)'].min() > 0:\n",
    "    idxmin = scenarios['Totale debiet (m3/s)'].idxmin()\n",
    "    scenarios = add_extrapolated_scen(scenarios, idxmin, 10000)"
   ]
  },
  {
   "cell_type": "markdown",
   "metadata": {},
   "source": [
    "### Plots"
   ]
  },
  {
   "cell_type": "code",
   "execution_count": 25,
   "metadata": {},
   "outputs": [
    {
     "data": {
      "image/png": "[encoded data removed]",
      "text/plain": [
       "<Figure size 216x288 with 1 Axes>"
      ]
     },
     "metadata": {
      "needs_background": "light"
     },
     "output_type": "display_data"
    }
   ],
   "source": [
    "# Debiet -- Passeertijd\n",
    "f, ax = plt.subplots(figsize=(3,4))\n",
    "\n",
    "plot_scenarios = LWB['unused']\n",
    "scenarios.loc[plot_scenarios].plot(x='Totale debiet (m3/s)', y='Passage time average (min)', zorder=3, marker='o', ls='none', legend=False, ax=ax, fillstyle='none', color='C1')\n",
    "\n",
    "plot_scenarios = LWB['regimes']\n",
    "scenarios.loc[plot_scenarios].plot(x='Totale debiet (m3/s)', y='Passage time average (min)', zorder=3, marker='o', ls=':', legend=False, ax=ax, color='C1')\n",
    "\n",
    "\n",
    "\n",
    "for i, r in scenarios.loc[plot_scenarios + LWB['unused']].iterrows():\n",
    "    plt.annotate(i, xy=(r['Totale debiet (m3/s)'], r['Passage time average (min)']), xytext=(10, -5), textcoords='offset points')\n",
    "\n",
    "\n",
    "    \n",
    "# plt.xlim(-4, 20)\n",
    "plt.xlim(right=(plt.gca().get_xlim()[1] + 0.5))\n",
    "plt.ylim(10, 100)\n",
    "plt.xlabel('Debiet ($m^3/s$)')\n",
    "plt.ylabel('Gemiddelde passeertijd (min)')\n",
    "plt.grid(c='#AAA')\n",
    "plt.title(lock)\n",
    "\n",
    "plt.savefig(    outputdir / f'{lock}_Debiet_passeertijd.png', bbox_inches='tight', dpi=150)\n",
    "plt.savefig(    outputdir / f'{lock}_Debiet_passeertijd.svg', bbox_inches='tight')\n"
   ]
  },
  {
   "cell_type": "code",
   "execution_count": 26,
   "metadata": {},
   "outputs": [],
   "source": [
    "\n",
    "if len(LWB['hevelend']):\n",
    "        # Debiet -- Passeertijd\n",
    "    f, ax = plt.subplots(figsize=(8,4))\n",
    "\n",
    "    plot_scenarios = LWB['unused']\n",
    "    scenarios.loc[plot_scenarios].plot(x='Totale debiet (m3/s)', y='Passage time average (min)', zorder=3, marker='o', ls='none', legend=False, ax=ax, fillstyle='none', color='C1')\n",
    "\n",
    "    plot_scenarios = LWB['regimes']\n",
    "    scenarios.loc[plot_scenarios].plot(x='Totale debiet (m3/s)', y='Passage time average (min)', zorder=3, marker='o', ls=':', legend=False, ax=ax, color='C1')\n",
    "\n",
    "\n",
    "\n",
    "    for i, r in scenarios.loc[plot_scenarios + LWB['unused']].iterrows():\n",
    "        plt.annotate(i, xy=(r['Totale debiet (m3/s)'], r['Passage time average (min)']), xytext=(10, -5), textcoords='offset points')\n",
    "\n",
    "\n",
    "    scenarios.loc[LWB['hevelend']].plot(x='Totale debiet (m3/s)', y='Totale gemiddelde passeertijd (min)', zorder=3, marker='v', ls='none', legend=False, ax=ax, color='C2')\n",
    "\n",
    "    for i, r in scenarios.loc[LWB['hevelend']].iloc[[0, 5, 11, 17,  -1]].iterrows():\n",
    "        plt.annotate(i, xy=(r['Totale debiet (m3/s)'], r['Totale gemiddelde passeertijd (min)']), xytext=(0, -5), textcoords='offset points', ha='right', va='top')\n",
    "\n",
    "\n",
    "    # plt.xlim(-4, 20)\n",
    "    plt.xlim(right=(plt.gca().get_xlim()[1] + 0.5))\n",
    "    plt.ylim(10, 100)\n",
    "    plt.xlabel('Debiet ($m^3/s$)')\n",
    "    plt.ylabel('Gemiddelde passeertijd (min)')\n",
    "    plt.grid(c='#AAA')\n",
    "    plt.title(lock)\n",
    "\n",
    "    plt.xlim(0, 17)\n",
    "\n",
    "    plt.savefig(    outputdir / f'{lock}_Debiet_passeertijd_incl_hevelend.png', bbox_inches='tight', dpi=150)\n",
    "    plt.savefig(    outputdir / f'{lock}_Debiet_passeertijd_incl_hevelend.svg', bbox_inches='tight')\n"
   ]
  },
  {
   "cell_type": "code",
   "execution_count": 27,
   "metadata": {},
   "outputs": [],
   "source": [
    "# # Debiet -- Passeerkosten\n",
    "# f, ax  = plt.subplots()\n",
    "\n",
    "# plot_scenarios = [LWB['ref']] + LWB['regimes']\n",
    "# scenarios.loc[plot_scenarios].plot(x='Discharge average (m3/s)', y='Totale kosten (eur) per dag', ls=':', marker='o', legend=False, ax=ax)\n",
    "\n",
    "# for i, r in scenarios.loc[plot_scenarios].iterrows():\n",
    "#     plt.annotate(i, xy=(r['Discharge average (m3/s)'], r['Totale kosten (eur) per dag']), xytext=(10, 0), textcoords='offset points')\n",
    "\n",
    "\n",
    "# scenarios.loc[LWB['hevelend']].plot(x='Totale debiet (m3/s)', y='Totale kosten (eur) per dag', ls='none', marker='o', legend=False, ax=ax, c='C2')\n",
    "\n",
    "# # for i, r in scenarios.loc[LWB['hevelend']].iterrows():\n",
    "# #     plt.annotate(i, xy=(r['Totale debiet (m3/s)'], r['Totale kosten (eur) per dag']), xytext=(-10, 0), textcoords='offset points', ha='right', va='top')\n",
    "\n",
    "\n",
    "\n",
    "# plt.xlim(0, 20)\n",
    "# # plt.ylim(0, 7000)\n",
    "# plt.xlabel('Debiet ($m^3/s$)')\n",
    "# plt.ylabel('Passeerkosten per dag (eur)')\n",
    "# plt.grid(c='#AAA')\n",
    "# plt.title(lock)\n",
    "\n",
    "# # plt.yticks(locs, map(lambda x: \"%.1f\" % x, plt.gca().get_yticks()/1e3))\n",
    "# plt.savefig(    outputdir / f'{lock}_Debiet_passeerkosten.png', bbox_inches='tight', dpi=150)\n",
    "# plt.savefig(    outputdir / f'{lock}_Debiet_passeerkosten.svg', bbox_inches='tight')\n",
    "# # plotdata.to_csv(outputdir / f'{lock}_Debiet_passeertijd.csv')"
   ]
  },
  {
   "cell_type": "code",
   "execution_count": 28,
   "metadata": {},
   "outputs": [],
   "source": [
    "\n",
    "def addSecond_x_axes(ax1_ticks, ax2_ticks_labels, ax2_color='#888', ax2_label=None, ax1=None, position=40):\n",
    "    '''\n",
    "    Add a second xlabel below the current\n",
    "    \n",
    "    ax1_ticks: Locations on current xaxis where markers should be placed\n",
    "    ax2_ticks_labels: Labels to put at these positions\n",
    "    \n",
    "    ax2_color: Color of all ax2 objects\n",
    "    ax2_label: xlabel\n",
    "    ax1: axes to apply function on. By default uses current axes\n",
    "    \n",
    "    return: ax2 handle\n",
    "    '''\n",
    "    \n",
    "    if not ax1:\n",
    "        ax1=plt.gca()\n",
    "        \n",
    "    assert all(ax1_ticks >= ax1.get_xlim()[0]) and all(ax1_ticks <= ax1.get_xlim()[1]), 'ax1_ticks larger than xlim. Ticks: {ticks}; Limits: {limits}'.format(ticks=ax1_ticks, limits=ax1.get_xlim())\n",
    "   \n",
    "    ax2 = ax1.twiny()\n",
    "\n",
    "    ax2.xaxis.tick_bottom()\n",
    "    ax2.xaxis.set_label_position('bottom') \n",
    "    ax2.spines['bottom'].set_position(('outward', position))\n",
    "    ax2.spines['bottom'].set_color(ax2_color)\n",
    "    ax2.tick_params(axis='x', colors=ax2_color)\n",
    "\n",
    "    ax2.set_xlim(ax1.get_xlim())\n",
    "\n",
    "    ax2.set_xticks(ax1_ticks, )\n",
    "    ax2.set_xticklabels(ax2_ticks_labels)\n",
    "    ax2.set_xlabel(ax2_label, color=ax2_color)\n",
    "    return ax2\n"
   ]
  },
  {
   "cell_type": "code",
   "execution_count": 29,
   "metadata": {},
   "outputs": [
    {
     "data": {
      "image/png": "[encoded data removed]",
      "text/plain": [
       "<Figure size 576x288 with 2 Axes>"
      ]
     },
     "metadata": {},
     "output_type": "display_data"
    }
   ],
   "source": [
    "# Debiet -- Passeerkosten\n",
    "f, ax  = plt.subplots(figsize=(8,4))\n",
    "\n",
    "# scenarios.loc[[LWB['ref']]].plot(x='Totale debiet (m3/s)', y='Totale kosten (eur) per dag', ls='none', marker='s', legend=False, ax=ax, markersize=10, c='C4', label='geen maatregelen', zorder=6)\n",
    "scenarios.loc[[LWB['ref']]].plot(x='Totale debiet (m3/s)', y='Totale kosten (eur) per dag', ls='none', marker='o', legend=False, ax=ax, markersize=10, c='C2', label='geen maatregelen', zorder=6)\n",
    "\n",
    "scenarios_with_regime = LWB['regimes']\n",
    "scenarios.loc[scenarios_with_regime].plot(x='Totale debiet (m3/s)', y='Totale kosten (eur) per dag', ls=':', marker='o', legend=False, ax=ax, c='C0', markersize=10, label='schutregime', fillstyle='none', zorder=5, markeredgewidth=2)\n",
    "\n",
    "scenarios_with_hevelend = [LWB['ref']] + [s for s in scenarios.index if ('REF H ' in s) & ('P' not in s)]\n",
    "if len(scenarios_with_hevelend) > 1:\n",
    "    scenarios.loc[scenarios_with_hevelend].plot(x='Totale debiet (m3/s)', y='Totale kosten (eur) per dag', ls=':', marker='o', legend=False, ax=ax, markersize=8, label='hevelend', c='C1')\n",
    "\n",
    "scenarios_with_pumps = [LWB['ref']] + [s for s in scenarios.index if 'REF P ' in s]\n",
    "if len(scenarios_with_pumps) > 1:\n",
    "    scenarios.loc[scenarios_with_pumps].plot(x='Totale debiet (m3/s)', y='Totale kosten (eur) per dag', ls=':', marker='o', legend=False, ax=ax, markersize=2, label='pompen', c='k')\n",
    "\n",
    "    \n",
    "# plt.xlim(0, 16)\n",
    "plt.xlabel('Debiet ($m^3/s$)')\n",
    "plt.ylabel('Kosten per dag (eur)')\n",
    "plt.grid(c='#AAA')\n",
    "plt.title(lock)\n",
    "plt.legend()\n",
    "# plt.ylim(0)\n",
    "\n",
    "ref = scenarios.loc[[LWB['ref']]]\n",
    "x2_ticks = np.arange(0, scenarios['Totale waterbesparing (m3/s)'].max(), 1)\n",
    "x1_ticks = ref['Totale debiet (m3/s)'][0] - x2_ticks\n",
    "\n",
    "ii = x1_ticks >= plt.gca().get_xlim()[0]\n",
    "x2_ticks = x2_ticks[ii]\n",
    "x1_ticks = x1_ticks[ii]\n",
    "\n",
    "x2_labels = [f'{s:.0f}' for s in x2_ticks]\n",
    "addSecond_x_axes(x1_ticks, x2_labels, ax2_label='Waterbesparing ($m^3/s$)')\n",
    "\n",
    "plt.savefig(    outputdir / f'{lock}_Laagwaterbeleid_scenarios_geen_combinaties.png', bbox_inches='tight', dpi=150)\n",
    "plt.savefig(    outputdir / f'{lock}_Laagwaterbeleid_scenarios_geen_combinaties.svg', bbox_inches='tight')\n",
    "# plotdata.to_csv(outputdir / f'{lock}_Debiet_passeertijd.csv')"
   ]
  },
  {
   "cell_type": "code",
   "execution_count": 30,
   "metadata": {},
   "outputs": [
    {
     "data": {
      "image/png": "[encoded data removed]",
      "text/plain": [
       "<Figure size 576x288 with 2 Axes>"
      ]
     },
     "metadata": {},
     "output_type": "display_data"
    }
   ],
   "source": [
    "# Debiet -- Passeerkosten\n",
    "f, ax  = plt.subplots(figsize=(8,4))\n",
    "\n",
    "scenarios.loc[[LWB['ref']]].plot(x='Totale debiet (m3/s)', y='Totale kosten (eur) per dag', ls='none', marker='o', legend=False, ax=ax, markersize=10, c='C2', label='geen maatregelen', zorder=6)\n",
    "\n",
    "scenarios_with_regime = [s for s in scenarios.index if 'R ' in s]\n",
    "scenarios.loc[scenarios_with_regime].plot(x='Totale debiet (m3/s)', y='Totale kosten (eur) per dag', ls='none', marker='o', legend=False, ax=ax, c='C0', markersize=10, label='schutregime', fillstyle='none', zorder=5, markeredgewidth=2)\n",
    "\n",
    "scenarios_with_hevelend = [s for s in scenarios.index if 'H ' in s]\n",
    "if len(scenarios_with_hevelend) > 1:\n",
    "    scenarios.loc[scenarios_with_hevelend].plot(x='Totale debiet (m3/s)', y='Totale kosten (eur) per dag', ls='none', marker='o', legend=False, ax=ax, markersize=8, label='hevelend', c='C1')\n",
    "\n",
    "scenarios_with_pumps = [s for s in scenarios.index if 'P ' in s]\n",
    "scenarios.loc[scenarios_with_pumps].plot(x='Totale debiet (m3/s)', y='Totale kosten (eur) per dag', ls='none', marker='o', legend=False, ax=ax, markersize=2, label='pompen', c='k')\n",
    "\n",
    "    \n",
    "# plt.xlim(0, 16)\n",
    "# plt.ylim(0)\n",
    "plt.xlabel('Debiet ($m^3/s$)')\n",
    "plt.ylabel('Kosten per dag (eur)')\n",
    "plt.grid(c='#AAA')\n",
    "plt.title(lock)\n",
    "plt.legend()\n",
    "\n",
    "\n",
    "ref = scenarios.loc[[LWB['ref']]]\n",
    "x2_ticks = np.arange(0, scenarios['Totale waterbesparing (m3/s)'].max(), 2)\n",
    "x1_ticks = ref['Totale debiet (m3/s)'][0] - x2_ticks\n",
    "x2_labels = [f'{s:.0f}' for s in x2_ticks]\n",
    "addSecond_x_axes(x1_ticks, x2_labels, ax2_label='Waterbesparing ($m^3/s$)')\n",
    "\n",
    "plt.savefig(    outputdir / f'{lock}_Laagwaterbeleid_scenarios_alle.png', bbox_inches='tight', dpi=150)\n",
    "plt.savefig(    outputdir / f'{lock}_Laagwaterbeleid_scenarios_alle.svg', bbox_inches='tight')\n",
    "# plotdata.to_csv(outputdir / f'{lock}_Debiet_passeertijd.csv')"
   ]
  },
  {
   "cell_type": "code",
   "execution_count": 31,
   "metadata": {},
   "outputs": [
    {
     "data": {
      "image/png": "[encoded data removed]",
      "text/plain": [
       "<Figure size 576x288 with 2 Axes>"
      ]
     },
     "metadata": {},
     "output_type": "display_data"
    }
   ],
   "source": [
    "# plotdata.plot.scatter(x='Discharge average (m3/s)', y='Shipping costs (eur)', zorder=3)\n",
    "# plotdata.iloc[:-1].set_index('Totale debiet (m3/s)')['Totale kosten (eur)'].plot(ls=':', marker='o')\n",
    "# plotdata.iloc[[0, -1], :].set_index('Totale debiet (m3/s)')['Totale kosten (eur)'].plot(ls=':', marker='o')\n",
    "f, ax = plt.subplots(figsize=(8,4))\n",
    "\n",
    "for LWB_name, LWB_ids in LWB['exports'].items():\n",
    "    scenarios.loc[LWB_ids].plot(x='Totale debiet (m3/s)', y='Totale kosten (eur) per dag', ls=':', marker='o', ax=ax, label=LWB_name)\n",
    "\n",
    "    \n",
    "plt.xlim(0, 16)\n",
    "# plt.ylim(0, 10e3)\n",
    "plt.xlabel('Debiet ($m^3/s$)')\n",
    "plt.ylabel('Kosten per dag (eur)')\n",
    "plt.grid(c='#AAA')\n",
    "plt.title(lock)\n",
    "\n",
    "\n",
    "ref = scenarios.loc[[LWB['ref']]]\n",
    "x2_ticks = np.arange(0, ref['Totale debiet (m3/s)'][0], 2)\n",
    "x1_ticks = ref['Totale debiet (m3/s)'][0] - x2_ticks\n",
    "x2_labels = [f'{s:.0f}' for s in x2_ticks]\n",
    "addSecond_x_axes(x1_ticks, x2_labels, ax2_label='Waterbesparing ($m^3/s$)')\n",
    "\n",
    "plt.savefig(    outputdir / f'{lock}_Laagwaterbeleid_scenarios.png', bbox_inches='tight', dpi=150)\n",
    "plt.savefig(    outputdir / f'{lock}_Laagwaterbeleid_scenarios.svg', bbox_inches='tight')\n",
    "scenarios.to_csv(outputdir / f'{lock}_Laagwaterbeleid_scenarios.csv')\n",
    "# plotdata.to_csv(outputdir / f'{lock}_Debiet_passeertijd.csv')"
   ]
  },
  {
   "cell_type": "code",
   "execution_count": 32,
   "metadata": {},
   "outputs": [],
   "source": [
    "def plot_lwb(refline=LWB['ref_zuinig']):\n",
    "    f, ax = plt.subplots(ncols=2, figsize=(10,4))\n",
    "    plt.subplots_adjust(wspace=0.3)\n",
    "\n",
    "    plt.sca(ax[0])\n",
    "    if laagwaterbeleid['Waterbesparing door hevelend (m3/s)'].max() > 0:\n",
    "        laagwaterbeleid.plot(kind='area', y=['Waterbesparing door hevelend (m3/s)', 'Besparing debiet scheepvaart (m3/s)', 'Pompinzet (m3/s)', ], ax=ax[0], label=['Hevelen','Schutregimes', 'Pompinzet', ], lw=0, color=['C2', 'C0', 'C1'])\n",
    "    else:\n",
    "        laagwaterbeleid.plot(kind='area', y=['Besparing debiet scheepvaart (m3/s)', 'Pompinzet (m3/s)', ], ax=ax[0], label=['Schutregimes', 'Pompinzet',], lw=0)\n",
    "    \n",
    "    plt.axhline(scenarios.loc[refline, 'Totale waterbesparing (m3/s)'], ls=':', c='k')\n",
    "    \n",
    "    plt.xlim(0, )\n",
    "    if lock == 'Born':\n",
    "        plt.ylim(0, 14)\n",
    "    else:\n",
    "        plt.ylim(0, 17)\n",
    "    plt.grid(alpha=0.3)\n",
    "    plt.xlabel('Beschikbare afvoer ($m^3/s$)')\n",
    "    plt.ylabel('Maatregelen voor waterbesparing ($m^3/s$)')\n",
    "    # plt.legend()\n",
    "\n",
    "    plt.sca(ax[1])\n",
    "    laagwaterbeleid.plot(kind='area', y=['Totale toename kosten scheepvaart (eur) per dag', 'Pompkosten (eur) per dag'], ax=ax[1], label=['Kosten voor scheepvaart', 'Pompkosten'], lw=0)\n",
    "    \n",
    "    plt.axhline(scenarios.loc[refline, 'Totale kosten (eur) per dag'], ls=':', c='k')\n",
    "\n",
    "    plt.xlim(0, )\n",
    "    plt.ylim(0, 10000)\n",
    "    plt.grid(alpha=0.3)\n",
    "    plt.xlabel('Beschikbare afvoer ($m^3/s$)')\n",
    "    plt.ylabel('Kosten per dag (eur)')\n",
    "\n",
    "    plt.suptitle(f'{lock}: {LWB_name}')"
   ]
  },
  {
   "cell_type": "code",
   "execution_count": 33,
   "metadata": {},
   "outputs": [
    {
     "data": {
      "image/png": "[encoded data removed]",
      "text/plain": [
       "<Figure size 720x288 with 2 Axes>"
      ]
     },
     "metadata": {
      "needs_background": "light"
     },
     "output_type": "display_data"
    }
   ],
   "source": [
    "for LWB_name, LWB_ids in LWB['exports'].items():\n",
    "\n",
    "    laagwaterbeleid = scenarios.loc[LWB_ids]\n",
    "    laagwaterbeleid = laagwaterbeleid.reset_index().set_index('Totale debiet (m3/s)').drop_duplicates()\n",
    "    laagwaterbeleid.to_csv(outputdir / f'{lock}_Laagwaterbeleid_{LWB_name}.csv')\n",
    "    \n",
    "    plot_lwb()\n",
    "    plt.savefig(    outputdir / f'{lock}_Laagwaterbeleid_{LWB_name}.png', bbox_inches='tight', dpi=150)\n",
    "    plt.savefig(    outputdir / f'{lock}_Laagwaterbeleid_{LWB_name}.svg', bbox_inches='tight')\n",
    "    plt.show()"
   ]
  },
  {
   "cell_type": "markdown",
   "metadata": {},
   "source": [
    "# Maatregelen"
   ]
  },
  {
   "cell_type": "code",
   "execution_count": 34,
   "metadata": {},
   "outputs": [],
   "source": [
    "if lock == 'Maasbracht':\n",
    "    s_list = [s for s in LWB['exports']['Gelijke waterbesparing'] if 'REF' in s] + ['R 40 80 30 H 80 100']\n",
    "\n",
    "    rest_debiet = scenarios.loc[s_list[-1]]['Totale debiet (m3/s)']\n",
    "\n",
    "    new_scenario = create_pomp_scenario(s=s_list[-1], Q_pump=rest_debiet)\n",
    "    scenarios = scenarios.append(new_scenario)\n",
    "\n",
    "    scenarios = derived_stats(scenarios)\n",
    "\n",
    "    s_list = s_list + [new_scenario.name]\n",
    "\n",
    "    LWB_name = 'Maatregel hogere pompcapaciteit'\n",
    "\n",
    "    laagwaterbeleid = scenarios.loc[s_list]\n",
    "    laagwaterbeleid = laagwaterbeleid.reset_index().set_index('Totale debiet (m3/s)').drop_duplicates()\n",
    "    laagwaterbeleid.to_csv(outputdir / f'{lock}_Laagwaterbeleid_{LWB_name}.csv')\n",
    "\n",
    "\n",
    "    plot_lwb(refline='REF')\n",
    "\n",
    "    plt.savefig(    outputdir / f'{lock}_Laagwaterbeleid_{LWB_name}.png', bbox_inches='tight', dpi=150)\n",
    "    plt.savefig(    outputdir / f'{lock}_Laagwaterbeleid_{LWB_name}.svg', bbox_inches='tight')"
   ]
  },
  {
   "cell_type": "code",
   "execution_count": 35,
   "metadata": {},
   "outputs": [],
   "source": [
    "if lock == 'Born':\n",
    "    s_list = LWB['exports'][\"Zuinig schutregime dan pompen\"][:-1]\n",
    "\n",
    "    rest_debiet = scenarios.loc[s_list[-1]]['Totale debiet (m3/s)']\n",
    "\n",
    "    new_scenario = create_pomp_scenario(s=s_list[-1], Q_pump=rest_debiet)\n",
    "    scenarios = scenarios.append(new_scenario)\n",
    "\n",
    "    scenarios = derived_stats(scenarios)\n",
    "\n",
    "    s_list = s_list + [new_scenario.name]\n",
    "\n",
    "    LWB_name = 'Maatregel hogere pompcapaciteit'\n",
    "\n",
    "    laagwaterbeleid = scenarios.loc[s_list]\n",
    "    laagwaterbeleid = laagwaterbeleid.reset_index().set_index('Totale debiet (m3/s)').drop_duplicates()\n",
    "    laagwaterbeleid.to_csv(outputdir / f'{lock}_Laagwaterbeleid_{LWB_name}.csv')\n",
    "\n",
    "\n",
    "    plot_lwb(refline='REF')\n",
    "\n",
    "    plt.savefig(    outputdir / f'{lock}_Laagwaterbeleid_{LWB_name}.png', bbox_inches='tight', dpi=150)\n",
    "    plt.savefig(    outputdir / f'{lock}_Laagwaterbeleid_{LWB_name}.svg', bbox_inches='tight')"
   ]
  },
  {
   "cell_type": "code",
   "execution_count": 36,
   "metadata": {},
   "outputs": [],
   "source": [
    "if lock == 'Maasbracht':\n",
    "    s_list = LWB['exports']['Gelijke kosten']\n",
    "    \n",
    "    for p in [0.7, 0.8, 0.9]:\n",
    "        LWB_name = f'Maatregel pompefficientie {p:.0%}'\n",
    "\n",
    "        laagwaterbeleid = scenarios.loc[s_list]\n",
    "\n",
    "        laagwaterbeleid['Pompkosten (eur) per dag'] = laagwaterbeleid['Pompkosten (eur) per dag'] * 0.4982/p\n",
    "\n",
    "        laagwaterbeleid = laagwaterbeleid.reset_index().set_index('Totale debiet (m3/s)').drop_duplicates()\n",
    "        laagwaterbeleid.to_csv(outputdir / f'{lock}_Laagwaterbeleid_{LWB_name}.csv')\n",
    "\n",
    "\n",
    "        plot_lwb(refline='REF')\n",
    "\n",
    "        plt.savefig(    outputdir / f'{lock}_Laagwaterbeleid_{LWB_name}.png', bbox_inches='tight', dpi=150)\n",
    "        plt.savefig(    outputdir / f'{lock}_Laagwaterbeleid_{LWB_name}.svg', bbox_inches='tight')"
   ]
  },
  {
   "cell_type": "code",
   "execution_count": 37,
   "metadata": {},
   "outputs": [],
   "source": [
    "if lock == 'Born':\n",
    "    s_list = LWB['exports']['Gelijke kosten']\n",
    "    \n",
    "    for p in [0.7, 0.8, 0.9]:\n",
    "        LWB_name = f'Maatregel pompefficientie {p:.0%}'\n",
    "\n",
    "        laagwaterbeleid = scenarios.loc[s_list]\n",
    "\n",
    "        laagwaterbeleid['Pompkosten (eur) per dag'] = laagwaterbeleid['Pompkosten (eur) per dag'] * 0.5567175/p\n",
    "\n",
    "        laagwaterbeleid = laagwaterbeleid.reset_index().set_index('Totale debiet (m3/s)').drop_duplicates()\n",
    "        laagwaterbeleid.to_csv(outputdir / f'{lock}_Laagwaterbeleid_{LWB_name}.csv')\n",
    "\n",
    "\n",
    "        plot_lwb(refline=LWB['ref_zuinig'])\n",
    "\n",
    "        plt.savefig(    outputdir / f'{lock}_Laagwaterbeleid_{LWB_name}.png', bbox_inches='tight', dpi=150)\n",
    "        plt.savefig(    outputdir / f'{lock}_Laagwaterbeleid_{LWB_name}.svg', bbox_inches='tight')"
   ]
  },
  {
   "cell_type": "code",
   "execution_count": 39,
   "metadata": {},
   "outputs": [
    {
     "data": {
      "text/plain": [
       "'R 80 80 110 H 100 100'"
      ]
     },
     "execution_count": 39,
     "metadata": {},
     "output_type": "execute_result"
    }
   ],
   "source": [
    "new_scenario.name"
   ]
  },
  {
   "cell_type": "code",
   "execution_count": 43,
   "metadata": {},
   "outputs": [
    {
     "name": "stdout",
     "output_type": "stream",
     "text": [
      "REF H 100 80\n",
      "REF H 100 100\n",
      "R 40 80 30 H 100 80\n",
      "R 40 80 30 H 100 100\n",
      "R 40 80 60 H 100 80\n",
      "R 40 80 60 H 100 100\n",
      "R 40 80 90 H 100 80\n",
      "R 40 80 90 H 100 100\n",
      "R 60 80 90 H 100 80\n",
      "R 60 80 90 H 100 100\n",
      "R 80 80 90 H 100 80\n",
      "R 80 80 90 H 100 100\n",
      "R 80 80 110 H 100 80\n",
      "R 80 80 110 H 100 100\n"
     ]
    },
    {
     "data": {
      "image/png": "[encoded data removed]",
      "text/plain": [
       "<Figure size 576x288 with 2 Axes>"
      ]
     },
     "metadata": {},
     "output_type": "display_data"
    },
    {
     "data": {
      "image/png": "[encoded data removed]",
      "text/plain": [
       "<Figure size 720x288 with 2 Axes>"
      ]
     },
     "metadata": {
      "needs_background": "light"
     },
     "output_type": "display_data"
    }
   ],
   "source": [
    "if lock == 'Heel':\n",
    "    variaties_referenties = LWB['regimes']\n",
    "    variaties_schuttingen_hevelend = [1.0]\n",
    "    variaties_besparing_hevelend = [0.8, 1.0]\n",
    "\n",
    "    for ref, schuttingen_hevelend, besparing_hevelend in itertools.product(variaties_referenties, variaties_schuttingen_hevelend, variaties_besparing_hevelend):\n",
    "        new_scenario = create_scenario_hevelend(ref = ref, schuttingen_hevelend = schuttingen_hevelend, besparing_hevelend = besparing_hevelend)\n",
    "        scenarios = scenarios.append(new_scenario)\n",
    "        print(new_scenario.name)\n",
    "    \n",
    "    scenarios = scenarios.drop_duplicates()\n",
    "    \n",
    "    scenarios = derived_stats(scenarios)\n",
    "\n",
    "    f, ax = plt.subplots(figsize=(8,4))\n",
    "\n",
    "    s_list = [s for s in scenarios.index if ('R' in s) & ('H ' not in s)]\n",
    "    scenarios.loc[s_list].plot(x='Totale debiet (m3/s)', y='Totale kosten (eur) per dag', ls=':', marker='o', ax=ax, label='Schutregimes')\n",
    "\n",
    "    s_list = [s for s in scenarios.index if ('H 100 80' in s)]\n",
    "    scenarios.loc[s_list].plot(x='Totale debiet (m3/s)', y='Totale kosten (eur) per dag', ls='none', marker='o', ax=ax, label='Hevelend schutten (H 100 80)')\n",
    "\n",
    "    s_list = [s for s in scenarios.index if ('H 100 100' in s)]\n",
    "    scenarios.loc[s_list].plot(x='Totale debiet (m3/s)', y='Totale kosten (eur) per dag', ls='none', marker='o', ax=ax, label='Hevelend schutten (H 100 100)')\n",
    "\n",
    "    s_list = ['REF', 'REF H 100 80'] + s_list\n",
    "    scenarios.loc[s_list].plot(x='Totale debiet (m3/s)', y='Totale kosten (eur) per dag', ls=':', c='C2', ax=ax, label='', legend=False, zorder=-3)\n",
    "\n",
    "\n",
    "    plt.xlim(0, 10)\n",
    "    # plt.ylim(0, 10e3)\n",
    "    plt.xlabel('Debiet ($m^3/s$)')\n",
    "    plt.ylabel('Kosten per dag (eur)')\n",
    "    plt.grid(c='#AAA')\n",
    "    plt.title(lock)\n",
    "\n",
    "\n",
    "    ref = scenarios.loc[[LWB['ref']]]\n",
    "    x2_ticks = np.arange(0, ref['Totale debiet (m3/s)'][0], 2)\n",
    "    x1_ticks = ref['Totale debiet (m3/s)'][0] - x2_ticks\n",
    "    x2_labels = [f'{s:.0f}' for s in x2_ticks]\n",
    "    addSecond_x_axes(x1_ticks, x2_labels, ax2_label='Waterbesparing ($m^3/s$)')\n",
    "\n",
    "    plt.savefig(    outputdir / f'{lock}_Laagwaterbeleid_maatregel_hevelend.png', bbox_inches='tight', dpi=150)\n",
    "    plt.savefig(    outputdir / f'{lock}_Laagwaterbeleid_maatregel_hevelend.svg', bbox_inches='tight')\n",
    "    \n",
    "    scenarios = add_extrapolated_scen(scenarios, new_scenario.name, 10000)\n",
    "    \n",
    "    LWB_name = 'Maatregel hevelend'\n",
    "    \n",
    "    s_list = s_list + ['R 80 80 110 H 100 100 extrapolatie']\n",
    "    \n",
    "    laagwaterbeleid = scenarios.loc[s_list]\n",
    "    laagwaterbeleid = laagwaterbeleid.reset_index().set_index('Totale debiet (m3/s)').drop_duplicates()\n",
    "    laagwaterbeleid.to_csv(outputdir / f'{lock}_Laagwaterbeleid_{LWB_name}.csv')\n",
    "\n",
    "    plot_lwb(refline='REF')\n",
    "    \n",
    "    plt.savefig(    outputdir / f'{lock}_Laagwaterbeleid_{LWB_name}.png', bbox_inches='tight', dpi=150)\n",
    "    plt.savefig(    outputdir / f'{lock}_Laagwaterbeleid_{LWB_name}.svg', bbox_inches='tight')"
   ]
  },
  {
   "cell_type": "code",
   "execution_count": null,
   "metadata": {},
   "outputs": [],
   "source": [
    "if lock == 'Born':\n",
    "    \n",
    "    variaties_referenties = LWB['regimes']\n",
    "    variaties_schuttingen_hevelend = [1.0]\n",
    "    variaties_besparing_hevelend = [1.0]\n",
    "\n",
    "    for ref, schuttingen_hevelend, besparing_hevelend in itertools.product(variaties_referenties, variaties_schuttingen_hevelend, variaties_besparing_hevelend):\n",
    "        new_scenario = create_scenario_hevelend(ref = ref, schuttingen_hevelend = schuttingen_hevelend, besparing_hevelend = besparing_hevelend)\n",
    "        scenarios = scenarios.append(new_scenario)\n",
    "        print(new_scenario.name)\n",
    "        \n",
    "\n",
    "    ref_scenarios = LWB['regimes']\n",
    "    ref_scenarios = [s + ' H 100 100' for s in ref_scenarios]\n",
    "    \n",
    "    besparing = scenarios.loc[ref_scenarios, 'Toename kosten scheepvaart (eur)']  - scenarios.loc[LWB['ref_zuinig'], 'Toename kosten scheepvaart (eur)']\n",
    "    besparing = besparing / (seconde_per_week * pompkosten_per_seconde)\n",
    "    besparing = besparing[besparing > 0.001].drop_duplicates()\n",
    "    besparing.loc[besparing > max_pomp_inzet[lock]] = max_pomp_inzet[lock]\n",
    "\n",
    "\n",
    "    for s, Q in besparing.items():\n",
    "        new_scenario = create_pomp_scenario(s, Q_pump=Q)\n",
    "        scenarios = scenarios.append(new_scenario)\n",
    "\n",
    "        print(new_scenario.name)\n",
    "        \n",
    "\n",
    "    Q_extra = max_pomp_inzet[lock]\n",
    "    new_scenario = create_pomp_scenario(s, Q_pump=Q_extra)\n",
    "    scenarios = scenarios.append(new_scenario)\n",
    "\n",
    "    print(new_scenario.name)\n",
    "\n",
    "    scenarios = derived_stats(scenarios)\n",
    "    scenarios = scenarios.drop_duplicates()\n",
    "\n",
    "    f, ax = plt.subplots(figsize=(8,4))\n",
    "    \n",
    "    LWB_name = 'Gelijke kosten'\n",
    "    scenarios.loc[LWB['exports'][LWB_name]].plot(x='Totale debiet (m3/s)', y='Totale kosten (eur) per dag', ls=':', marker='o', ax=ax, label=LWB_name)\n",
    "\n",
    "    s_list = ['REF', 'REF H 100 100', 'R 40 80 30 H 100 100'] + [s for s in scenarios.index if ('H 100 100 P' in s)]\n",
    "    scenarios.loc[s_list].plot(x='Totale debiet (m3/s)', y='Totale kosten (eur) per dag', ls=':', marker='o', ax=ax, label='Hevelend schutten')\n",
    "\n",
    "\n",
    "\n",
    "    plt.xlim(0, 14)\n",
    "    plt.ylim(-200, 7e3)\n",
    "    plt.xlabel('Debiet ($m^3/s$)')\n",
    "    plt.ylabel('Kosten per dag (eur)')\n",
    "    plt.grid(c='#AAA')\n",
    "    plt.title(lock)\n",
    "\n",
    "\n",
    "    ref = scenarios.loc[[LWB['ref']]]\n",
    "    x2_ticks = np.arange(0, ref['Totale debiet (m3/s)'][0], 2)\n",
    "    x1_ticks = ref['Totale debiet (m3/s)'][0] - x2_ticks\n",
    "    x2_labels = [f'{s:.0f}' for s in x2_ticks]\n",
    "    addSecond_x_axes(x1_ticks, x2_labels, ax2_label='Waterbesparing ($m^3/s$)')\n",
    "\n",
    "    plt.savefig(    outputdir / f'{lock}_Laagwaterbeleid_maatregel_hevelend.png', bbox_inches='tight', dpi=150)\n",
    "    plt.savefig(    outputdir / f'{lock}_Laagwaterbeleid_maatregel_hevelend.svg', bbox_inches='tight')\n",
    "    \n",
    "    LWB_name = 'Maatregel hevelend'\n",
    "\n",
    "    laagwaterbeleid = scenarios.loc[s_list]\n",
    "    laagwaterbeleid = laagwaterbeleid.reset_index().set_index('Totale debiet (m3/s)').drop_duplicates()\n",
    "    laagwaterbeleid.to_csv(outputdir / f'{lock}_Laagwaterbeleid_{LWB_name}.csv')\n",
    "    \n",
    "    plot_lwb(refline='R 40 80 30 H 100 100')\n",
    "    \n",
    "    plt.savefig(    outputdir / f'{lock}_Laagwaterbeleid_{LWB_name}.png', bbox_inches='tight', dpi=150)\n",
    "    plt.savefig(    outputdir / f'{lock}_Laagwaterbeleid_{LWB_name}.svg', bbox_inches='tight')"
   ]
  },
  {
   "cell_type": "code",
   "execution_count": null,
   "metadata": {},
   "outputs": [],
   "source": []
  }
 ],
 "metadata": {
  "kernelspec": {
   "display_name": "Python 3",
   "language": "python",
   "name": "python3"
  },
  "language_info": {
   "codemirror_mode": {
    "name": "ipython",
    "version": 3
   },
   "file_extension": ".py",
   "mimetype": "text/x-python",
   "name": "python",
   "nbconvert_exporter": "python",
   "pygments_lexer": "ipython3",
   "version": "3.7.3"
  }
 },
 "nbformat": 4,
 "nbformat_minor": 4
}
