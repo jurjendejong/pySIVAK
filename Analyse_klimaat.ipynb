{
 "cells": [
  {
   "cell_type": "code",
   "execution_count": 1,
   "metadata": {},
   "outputs": [],
   "source": [
    "from pathlib import Path\n",
    "import pandas as pd\n",
    "import numpy as np\n",
    "import matplotlib.pyplot as plt"
   ]
  },
  {
   "cell_type": "code",
   "execution_count": 2,
   "metadata": {},
   "outputs": [],
   "source": [
    "outputdir = Path('Analyse_klimaat')"
   ]
  },
  {
   "cell_type": "code",
   "execution_count": 3,
   "metadata": {},
   "outputs": [],
   "source": [
    "def maas_afvoer_verdrag(Q, l_in = 'ongedeelde Maasafvoer Monsin (Kanne + St. Pieter)', l_uit = 'Maas (St. Pieter)'):\n",
    "\n",
    "    MAV = pd.read_excel(r'Invoer/Afvoeren/Afvoerverdeling_Maas.xlsx', sheet_name='Afvoerverdeling', header=1, skiprows=[2])\n",
    "    MAV = MAV.sort_index(ascending=False)\n",
    "\n",
    "    Q_uit = np.interp(Q, MAV[l_in], MAV[l_uit])\n",
    "\n",
    "    # Corrigeer de extrapolatie. \n",
    "    # Boven het maximum, wordt verondersteld dat l_uit gelijk is aan l_in minus het verschil op de laatste regel van de MAV-tabel\n",
    "    ii = Q > MAV[l_in].max()\n",
    "    Q_uit[ii] = Q[ii] - (MAV[l_in].max() - MAV[l_uit].max())\n",
    "    \n",
    "    # Onder het minimum wordt dezelfde verhouding doorgezet\n",
    "    ii = Q < MAV[l_in].min()\n",
    "    Q_uit[ii] = Q[ii] * (MAV[l_uit].min() / MAV[l_in].min())\n",
    "    \n",
    "    if hasattr(Q, 'index'):\n",
    "        Q_uit = pd.Series(index=Q.index, data=Q_uit)\n",
    "    \n",
    "    return Q_uit  "
   ]
  },
  {
   "cell_type": "code",
   "execution_count": 4,
   "metadata": {},
   "outputs": [],
   "source": [
    "# Read karakteristieke jaren\n",
    "Q_SP = {} \n",
    "for s in ['T100', 'T10', 'T2', 'T1']:\n",
    "    Q_SP[s] = pd.read_excel(f'Invoer/Afvoeren/CDF_karakteristieke_jaren_{s}.xlsx', index_col=0)\n",
    "Q_SP['Gemiddelde'] = pd.read_excel('Invoer/Afvoeren/Non_exceedance.xlsx', index_col=0)\n",
    "Q_SP = pd.concat(Q_SP, axis=1).swaplevel(axis=1).sort_index(axis=1)\n",
    "Q_SP = Q_SP.reindex(['T100', 'T10', 'T2', 'T1'] + ['Gemiddelde'], axis=1, level=1)\n",
    "Q_SP = Q_SP * 365"
   ]
  },
  {
   "cell_type": "code",
   "execution_count": 5,
   "metadata": {},
   "outputs": [],
   "source": [
    "# Read individual years\n",
    "Q_SP_allejaren = pd.read_excel(f'Invoer/Afvoeren/Non_exceedance_yearly.xlsx', index_col=[0, 1])\n",
    "Q_SP_allejaren = Q_SP_allejaren.unstack(level=1).swaplevel(axis=1).sort_index(axis=1)"
   ]
  },
  {
   "cell_type": "code",
   "execution_count": 6,
   "metadata": {},
   "outputs": [],
   "source": [
    "# Toepassen Maas afvoer verdrag\n",
    "Q_JK = maas_afvoer_verdrag(Q_SP.index, l_in = 'Maas (St. Pieter)', l_uit='Julianakanaal (Bunde)')\n",
    "Q_Grensmaas = maas_afvoer_verdrag(Q_SP.index, l_in = 'Maas (St. Pieter)', l_uit='Gemeen-schappelijke Maas (Borgharen)')"
   ]
  },
  {
   "cell_type": "code",
   "execution_count": 7,
   "metadata": {},
   "outputs": [],
   "source": [
    "onttrekkingen_B = 1.6  # DSM \n",
    "onttrekkingen_C = 0\n",
    "\n",
    "lekdebiet_Born = 1\n",
    "lekdebiet_Maasbracht = 1\n",
    "lekdebiet_Heel = 1\n",
    "\n",
    "Q_Panheel = 0\n",
    "Q_stuwlinne = 5\n",
    "Q_sluislinne = 1\n",
    "Q_overig_Linne = 1\n",
    "\n",
    "Q_Born = Q_JK - onttrekkingen_B - lekdebiet_Born\n",
    "Q_Maasbracht = Q_Born + lekdebiet_Born - onttrekkingen_C - lekdebiet_Maasbracht\n",
    "Q_Heel = Q_Grensmaas + Q_Maasbracht + lekdebiet_Maasbracht + Q_Panheel - Q_stuwlinne - Q_sluislinne - Q_overig_Linne - lekdebiet_Heel\n",
    "\n",
    "Q = {\n",
    "    'Born': np.maximum(Q_Born, 0),\n",
    "    'Maasbracht': np.maximum(Q_Maasbracht, 0),\n",
    "    'Heel': np.maximum(Q_Heel, 0)\n",
    "}"
   ]
  },
  {
   "cell_type": "code",
   "execution_count": null,
   "metadata": {},
   "outputs": [],
   "source": [
    "plt.subplots(figsize=(8,4))\n",
    "plt.plot(Q_SP.index, Q['Born'], label='Born')\n",
    "plt.plot(Q_SP.index, Q['Maasbracht'], label='Maasbracht', ls='-.')\n",
    "plt.plot(Q_SP.index, Q['Heel'], label='Heel', ls='-')\n",
    "\n",
    "plt.xlim(0, 100)\n",
    "plt.ylim(0, 30)\n",
    "plt.xlabel('Afvoer St. Pieter ($m^3/s$)')\n",
    "plt.ylabel('Beschikbare afvoer ($m^3/s$)')\n",
    "plt.title('Gemiddelde beschikbare afvoer bij sluiscomplexen bij lage Maasafvoer')\n",
    "plt.grid()\n",
    "plt.legend(title='Sluis')\n",
    "\n",
    "plt.savefig(outputdir / 'Beschikbare_afvoer_sluiscomplexen.png', dpi=150, bbox_inches='tight')\n",
    "plt.savefig(outputdir / 'Beschikbare_afvoer_sluiscomplexen.svg', bbox_inches='tight')"
   ]
  },
  {
   "cell_type": "code",
   "execution_count": null,
   "metadata": {},
   "outputs": [],
   "source": [
    "LWB = {'Maasbracht': {}, 'Born': {}, 'Heel': {}}\n",
    "for lwb in Path(f'Ontwerp laagwaterbeleid/def').glob('*.csv'):\n",
    "    lock = lwb.stem.split('_')[0]\n",
    "    strategie = lwb.stem.split('_')[-1]\n",
    "    \n",
    "    LWB[lock][strategie] = pd.read_csv(lwb, index_col=0)\n",
    "\n",
    "# for lwb in Path(f'Ontwerp laagwaterbeleid/def').glob('*.xlsx'):\n",
    "#     lock = lwb.stem.split('_')[0]\n",
    "#     strategie = lwb.stem.split('_')[-1]\n",
    "    \n",
    "#     LWB[lock][strategie] = pd.read_excel(lwb, index_col=0)\n"
   ]
  },
  {
   "cell_type": "code",
   "execution_count": null,
   "metadata": {},
   "outputs": [],
   "source": [
    "lock = 'Maasbracht'\n",
    "strategie = 'Gelijke kosten'\n",
    "klimaat = 'Ref'\n",
    "\n",
    "scenarios = LWB[lock][strategie]\n",
    "scenarios = scenarios.sort_index()  # Sorting is necessary for the interp"
   ]
  },
  {
   "cell_type": "code",
   "execution_count": null,
   "metadata": {},
   "outputs": [],
   "source": [
    "onderschrijding = Q_SP.copy()\n",
    "onderschrijding.index = Q[lock]"
   ]
  },
  {
   "cell_type": "code",
   "execution_count": null,
   "metadata": {},
   "outputs": [],
   "source": [
    "def addSecond_x_axes(ax1_ticks, ax2_ticks_labels, ax2_color='#888', ax2_label=None, ax1=None, position=40):\n",
    "    '''\n",
    "    Add a second xlabel below the current\n",
    "    \n",
    "    ax1_ticks: Locations on current xaxis where markers should be placed\n",
    "    ax2_ticks_labels: Labels to put at these positions\n",
    "    \n",
    "    ax2_color: Color of all ax2 objects\n",
    "    ax2_label: xlabel\n",
    "    ax1: axes to apply function on. By default uses current axes\n",
    "    \n",
    "    return: ax2 handle\n",
    "    '''\n",
    "    \n",
    "    if not ax1:\n",
    "        ax1=plt.gca()\n",
    "        \n",
    "    assert all(ax1_ticks >= ax1.get_xlim()[0]) and all(ax1_ticks <= ax1.get_xlim()[1]), 'ax1_ticks larger than xlim. Ticks: {ticks}; Limits: {limits}'.format(ticks=ax1_ticks, limits=ax1.get_xlim())\n",
    "   \n",
    "    ax2 = ax1.twiny()\n",
    "\n",
    "    ax2.xaxis.tick_bottom()\n",
    "    ax2.xaxis.set_label_position('bottom') \n",
    "    ax2.spines['bottom'].set_position(('outward', position))\n",
    "    ax2.spines['bottom'].set_color(ax2_color)\n",
    "    ax2.tick_params(axis='x', colors=ax2_color)\n",
    "\n",
    "    ax2.set_xlim(ax1.get_xlim())\n",
    "\n",
    "    ax2.set_xticks(ax1_ticks, )\n",
    "    ax2.set_xticklabels(ax2_ticks_labels)\n",
    "    ax2.set_xlabel(ax2_label, color=ax2_color)\n",
    "    return ax2\n"
   ]
  },
  {
   "cell_type": "code",
   "execution_count": null,
   "metadata": {},
   "outputs": [],
   "source": [
    "def interpolate_dataframe(df, new_index):\n",
    "    # Reindex with both old and new index, interpolate to new index, and only keep new index\n",
    "    f = df. \\\n",
    "        reindex(df.index.union(new_index)). \\\n",
    "        interpolate(method='index'). \\\n",
    "        drop_duplicates(). \\\n",
    "        reindex(new_index, method='ffill')  # Fill the duplicates again that were previously removed\n",
    "    return f"
   ]
  },
  {
   "cell_type": "code",
   "execution_count": null,
   "metadata": {},
   "outputs": [],
   "source": [
    "def bereken_schadeperjaar(onderschrijding, scenarios):\n",
    "    \"\"\"\n",
    "    \n",
    "    returns: geinterpoleerde scenarios en totale schade per jaar\n",
    "    \"\"\"\n",
    "    \n",
    "    afvoeren = onderschrijding.index\n",
    "    scenarios_interp = interpolate_dataframe(scenarios, afvoeren)\n",
    "    \n",
    "    schadeperjaar = pd.concat({\n",
    "        'Kosten scheepvaart (mln eur)': onderschrijding.diff().multiply(scenarios_interp['Totale toename kosten scheepvaart (eur) per dag'], axis=0).sum(),\n",
    "        'Pompkosten (mln eur)': onderschrijding.diff().multiply(scenarios_interp['Pompkosten (eur) per dag'], axis=0).sum()\n",
    "    }, axis=1) / 1e6\n",
    "    return scenarios_interp, schadeperjaar"
   ]
  },
  {
   "cell_type": "code",
   "execution_count": null,
   "metadata": {},
   "outputs": [],
   "source": [
    "scenarios_interp, schadeperjaar = bereken_schadeperjaar(onderschrijding, scenarios)"
   ]
  },
  {
   "cell_type": "code",
   "execution_count": null,
   "metadata": {},
   "outputs": [],
   "source": [
    "def plot_onderschrijding(klimaat):\n",
    "    onderschrijding[klimaat].iloc[:,:-1].plot()\n",
    "    onderschrijding[klimaat].iloc[:,-1].plot(ls=':')\n",
    "    plt.legend()\n",
    "    plt.xlim(0, 20)\n",
    "    plt.ylim(0., 200)\n",
    "    plt.grid()\n",
    "    plt.ylabel('Aantal dagen onderschrijding')\n",
    "    plt.xlabel(f'beschikbare afvoer {lock} ($m^3/s$)')\n",
    "    plt.title(klimaat)\n",
    "\n",
    "    afvoer_xas = plt.gca().get_xticks()\n",
    "    kosten_xas = scenarios_interp.drop_duplicates()['Totale kosten (eur) per dag'].reindex(afvoer_xas, method='ffill')\n",
    "    kosten_xas_labels = [f'{s:.0f}' for s in kosten_xas]\n",
    "    plt.legend(loc='center left', bbox_to_anchor=(1,0.5))\n",
    "\n",
    "    addSecond_x_axes(afvoer_xas, kosten_xas_labels, ax2_label='Kosten laagwaterbeleid (euro per dag)')\n",
    "\n",
    "plot_onderschrijding(klimaat)\n",
    "plt.savefig(outputdir / f'{lock}_Onderschrijdingskromme_laagwaterbeleid_{klimaat}_{strategie}.png', dpi=150, bbox_inches='tight')\n",
    "plt.savefig(outputdir / f'{lock}_Onderschrijdingskromme_laagwaterbeleid_{klimaat}_{strategie}.svg', bbox_inches='tight')"
   ]
  },
  {
   "cell_type": "code",
   "execution_count": null,
   "metadata": {},
   "outputs": [],
   "source": [
    "def plot_klimaatjaren(klimaat1='Ref', klimaat2='WH_2050'):\n",
    "    f, ax = plt.subplots(ncols=2, figsize=(6,4), sharey=True)\n",
    "\n",
    "    plt.sca(ax[0])\n",
    "    schadeperjaar.loc[klimaat1].plot.bar(width=0.8, zorder=3, stacked=True, ax=ax[0], legend=False)\n",
    "    plt.grid(c='#BBB')\n",
    "    plt.ylabel('Totale kosten per jaar (mln eur)')\n",
    "    plt.title(f'Scenario {klimaat1}')\n",
    "    plt.axvspan(3.5, 4.6, facecolor='#DDD', zorder=-5)\n",
    "    for i, v in enumerate(schadeperjaar.loc[klimaat1].sum(axis=1).values):\n",
    "    #     if v < 0.01: continue\n",
    "        plt.annotate(text=f'{v:.2f}', xy=(i, v), ha='center', xytext=(0, 3), textcoords='offset points')\n",
    "\n",
    "    plt.sca(ax[1])\n",
    "    schadeperjaar.loc[klimaat2].plot.bar(width=0.8, zorder=3, stacked=True, ax=ax[1])\n",
    "    plt.grid(c='#BBB')\n",
    "    plt.axvspan(3.5, 4.6, facecolor='#DDD', zorder=-5)\n",
    "    plt.ylabel('Totale kosten per jaar (mln eur)')\n",
    "    plt.title(f'Scenario {klimaat2}')\n",
    "    plt.legend(loc='center left', bbox_to_anchor=(1,0.5))\n",
    "\n",
    "\n",
    "    for i, v in enumerate(schadeperjaar.loc[klimaat2].sum(axis=1).values):\n",
    "        plt.annotate(text=f'{v:.2f}', xy=(i, v), ha='center', xytext=(0, 3), textcoords='offset points')\n",
    "\n",
    "    plt.ylim(top=1.3)\n",
    "\n",
    "plot_klimaatjaren()\n",
    "plt.savefig(outputdir / f'{lock}_Kosten_per_jaar_{strategie}.png', dpi=150, bbox_inches='tight')\n",
    "plt.savefig(outputdir / f'{lock}_Kosten_per_jaar_{strategie}.svg', bbox_inches='tight')"
   ]
  },
  {
   "cell_type": "markdown",
   "metadata": {},
   "source": [
    "# Plot all"
   ]
  },
  {
   "cell_type": "code",
   "execution_count": null,
   "metadata": {},
   "outputs": [],
   "source": [
    "locks = ['Maasbracht', 'Born', 'Heel']\n",
    "# locks = ['Heel']\n",
    "\n",
    "for lock in locks:\n",
    "    for strategie, scenarios in LWB[lock].items():\n",
    "        \n",
    "        \n",
    "        scenarios = LWB[lock][strategie]\n",
    "        scenarios = scenarios.sort_index()  # Sorting is necessary for the interp\n",
    "\n",
    "        onderschrijding = Q_SP.copy()\n",
    "        onderschrijding.index = Q[lock]\n",
    "\n",
    "        scenarios_interp, schadeperjaar = bereken_schadeperjaar(onderschrijding, scenarios)\n",
    "        \n",
    "        schadeperjaar.to_excel(outputdir / f'{lock}_Kosten_per_jaar_{strategie}.xlsx')\n",
    "        \n",
    "        for klimaat in Q_SP.columns.levels[0]:\n",
    "\n",
    "            plot_onderschrijding(klimaat)\n",
    "            plt.savefig(outputdir / f'{lock}_Onderschrijdingskromme_laagwaterbeleid_{klimaat}_{strategie}.png', dpi=150, bbox_inches='tight')\n",
    "            plt.savefig(outputdir / f'{lock}_Onderschrijdingskromme_laagwaterbeleid_{klimaat}_{strategie}.svg', bbox_inches='tight')\n",
    "            plt.close()\n",
    "            \n",
    "            if klimaat == 'Ref': continue\n",
    "\n",
    "            plot_klimaatjaren(klimaat1='Ref', klimaat2=klimaat)\n",
    "            plt.savefig(outputdir / f'{lock}_Kosten_per_jaar_{klimaat}_{strategie}.png', dpi=150, bbox_inches='tight')\n",
    "            plt.savefig(outputdir / f'{lock}_Kosten_per_jaar_{klimaat}_{strategie}.svg', bbox_inches='tight')\n",
    "            plt.close()\n",
    "            \n",
    "            \n",
    "            \n",
    "            "
   ]
  },
  {
   "cell_type": "code",
   "execution_count": null,
   "metadata": {},
   "outputs": [],
   "source": []
  }
 ],
 "metadata": {
  "kernelspec": {
   "display_name": "Python 3",
   "language": "python",
   "name": "python3"
  },
  "language_info": {
   "codemirror_mode": {
    "name": "ipython",
    "version": 3
   },
   "file_extension": ".py",
   "mimetype": "text/x-python",
   "name": "python",
   "nbconvert_exporter": "python",
   "pygments_lexer": "ipython3",
   "version": "3.7.3"
  }
 },
 "nbformat": 4,
 "nbformat_minor": 4
}
